{
 "cells": [
  {
   "cell_type": "code",
   "execution_count": 1,
   "id": "d95174ab",
   "metadata": {},
   "outputs": [],
   "source": [
    "import pandas as pd\n",
    "import numpy as np\n",
    "pd.set_option('max_columns',110)\n",
    "\n",
    "import warnings\n",
    "warnings.filterwarnings('ignore')\n",
    "warnings.simplefilter('ignore')"
   ]
  },
  {
   "cell_type": "markdown",
   "id": "736a525f",
   "metadata": {},
   "source": [
    "## Data Loading"
   ]
  },
  {
   "cell_type": "code",
   "execution_count": 102,
   "id": "987343cf",
   "metadata": {},
   "outputs": [
    {
     "data": {
      "text/plain": [
       "(8110, 717)"
      ]
     },
     "execution_count": 102,
     "metadata": {},
     "output_type": "execute_result"
    }
   ],
   "source": [
    "pd.read_sas('./data/hn19_all.sas7bdat', format = 'sas7bdat').shape"
   ]
  },
  {
   "cell_type": "code",
   "execution_count": 2,
   "id": "d420dad2",
   "metadata": {},
   "outputs": [],
   "source": [
    "df_all = pd.read_sas('./data/hn19_all.sas7bdat', format = 'sas7bdat')\n",
    "df_all = df_all.loc[df_all['HE_ht'].isna() == False]\n",
    "df_all = df_all.loc[df_all['HE_wt'].isna() == False]"
   ]
  },
  {
   "cell_type": "code",
   "execution_count": 3,
   "id": "aacfade8",
   "metadata": {},
   "outputs": [],
   "source": [
    "def obesity(x) : \n",
    "    if x < 18.5 : \n",
    "        return 0\n",
    "    elif x < 23 : \n",
    "        return 1\n",
    "    elif x < 25 : \n",
    "        return 2\n",
    "    elif x < 30 :\n",
    "        return 3\n",
    "    elif x < 35 : \n",
    "        return 4\n",
    "    else : \n",
    "        return 5\n",
    "    \n",
    "df_all['Obesity']=  df_all['HE_BMI'].apply(obesity)\n",
    "df_all = df_all.query('age >= 20')"
   ]
  },
  {
   "cell_type": "code",
   "execution_count": 4,
   "id": "139312d5",
   "metadata": {},
   "outputs": [],
   "source": [
    "from sklearn.model_selection import train_test_split\n",
    "\n",
    "train_data, test_data = train_test_split(df_all, shuffle = True, stratify = df_all['Obesity'], random_state = 0)"
   ]
  },
  {
   "cell_type": "markdown",
   "id": "afebfea6",
   "metadata": {},
   "source": [
    "## Feature Engineering"
   ]
  },
  {
   "cell_type": "code",
   "execution_count": 5,
   "id": "0a23cff9",
   "metadata": {},
   "outputs": [],
   "source": [
    "total_features = []"
   ]
  },
  {
   "cell_type": "markdown",
   "id": "193a5820",
   "metadata": {},
   "source": [
    "# 1. 기본변수"
   ]
  },
  {
   "cell_type": "code",
   "execution_count": 6,
   "id": "1027bf73",
   "metadata": {},
   "outputs": [
    {
     "data": {
      "text/plain": [
       "(615, 184)"
      ]
     },
     "execution_count": 6,
     "metadata": {},
     "output_type": "execute_result"
    }
   ],
   "source": [
    "normal_features = np.array([\n",
    "    ['region', '지역', 'cat'],\n",
    "    ['town_t', '동읍면', 'cat'],\n",
    "    ['apt_t', '아파트구분', 'cat'],\n",
    "    ['sex', '성별', 'cat'],\n",
    "    ['age', '만나이', 'num'],\n",
    "    ['incm5', '소득5분위수(개인)', 'cat'],\n",
    "    ['ho_incm5','소득5분위수(가구)','cat'],\n",
    "    ['edu',  '교육수준', 'cat'],\n",
    "    ['occp' , '직업', 'cat']\n",
    "                                            ])\n",
    "train_normal = train_data[normal_features[:,0]]\n",
    "test_normal = test_data[normal_features[:,0]]\n",
    "\n",
    "total_features.extend(normal_features)\n",
    "train_normal.isna().sum().sum(), test_normal.isna().sum().sum()\n"
   ]
  },
  {
   "cell_type": "markdown",
   "id": "e92863d0",
   "metadata": {},
   "source": [
    "# 2. 건강설문조사"
   ]
  },
  {
   "cell_type": "markdown",
   "id": "59acd20f",
   "metadata": {},
   "source": [
    "- 2-1. 가구조사"
   ]
  },
  {
   "cell_type": "code",
   "execution_count": 7,
   "id": "b70af3fd",
   "metadata": {},
   "outputs": [],
   "source": [
    "family_features = np.array([\n",
    "    ['cfam', '가구원수', 'cat'],\n",
    "    ['genertn' , '가구 세대구성', 'cat'],\n",
    "    ['allownc', '기초생활수급여부' , 'cat'],\n",
    "    ['house', '주택소유여부', 'cat'],\n",
    "    ['live_t', '주택형태', 'cat'],\n",
    "    ['marri_1' , '결혼여부', 'cat'],\n",
    "    ['fam_rela', '가구주와의 관계', 'cat'],\n",
    "    ['tins', '건강보험가입', 'cat'],\n",
    "])\n",
    "\n",
    "train_family = train_data[family_features[:,0]]\n",
    "test_family = test_data[family_features[:,0]]\n",
    "\n",
    "total_features.extend(family_features)"
   ]
  },
  {
   "cell_type": "markdown",
   "id": "0594b845",
   "metadata": {},
   "source": [
    "- 2-2. 이환"
   ]
  },
  {
   "cell_type": "code",
   "execution_count": 8,
   "id": "78d9d077",
   "metadata": {},
   "outputs": [],
   "source": [
    "disease_features = np.array([\n",
    "    ['D_1_1' , '주관적 건강 인식', 'cat'],\n",
    "    ['D_2_1', '2주내 불편 여부' ,'cat'],\n",
    "    ['DI1_dg' , '고혈압 진단 여부', 'cat'],\n",
    "    ['DI2_dg', '이상지질혈증 진단 여부', 'cat'],\n",
    "    ['DI3_dg' , '뇌졸중 진단 여부', 'cat'],\n",
    "    ['DI4_dg', '심근경색증 혹은 협심증 진단 여부' , 'cat'],\n",
    "    ['DI5_dg', '심근경색증 진단 여부', 'cat'],\n",
    "    ['DI6_dg', '협심증 진단 여부', 'cat'],\n",
    "   \n",
    "    ['DM1_dg' , '관절염 진단 여부', 'cat'], # NA값이 많아 생략\n",
    "    ['DM2_dg' , '골관절염 진단 여부', 'cat'],\n",
    "    ['DM3_dg' , '류마티스성 관절염 진단 여부', 'cat'],\n",
    "    ['DM4_dg' , '골다공증 진단 여부', 'cat'],\n",
    "\n",
    "    ['DJ2_dg' , '폐결핵 진단 여부', 'cat'], \n",
    "    ['DJ4_dg', '천식 진단 여부' , 'cat'],\n",
    "    \n",
    "    ['DE1_dg', '당뇨병 진단 여부', 'cat'],\n",
    "    ['DE2_dg' , '갑상선 진단 여부', 'cat'],\n",
    "    \n",
    "    ['DC1_dg', '위암 진단 여부', 'cat'],\n",
    "    ['DC2_dg', '간암 진단 여부', 'cat'],\n",
    "    ['DC3_dg', '대장암 진단 여부', 'cat'],\n",
    "    ['DC4_dg', '유방암 진단 여부', 'cat'],\n",
    "    ['DC5_dg', '자궁경부암 진단 여부', 'cat'],\n",
    "    ['DC6_dg', '폐암 진단 여부', 'cat'],\n",
    "    ['DC7_dg', '갑상선암 진단 여부', 'cat'],\n",
    "    ['DC11_dg', '기타암 진단 여부', 'cat'],\n",
    "    \n",
    "    ['DF2_dg', '우울증 진단 여부', 'cat'],\n",
    "    ['DL1_dg', '아토피피부염 진단 여부', 'cat'],\n",
    "    ['DJ8_dg', '알레르기비염 진단 여부', 'cat'],\n",
    "    ['DJ6_dg', '부비동염 진단 여부', 'cat'],\n",
    "    ['DH4_dg', '중이염 진단 여부', 'cat'],\n",
    "    ['DN1_dg', '신부전 진단 여부', 'cat'],\n",
    "    ['DK8_dg', 'B형간염 진단 여부', 'cat'],\n",
    "    ['DK9_dg', 'C형간염 진단 여부', 'cat'],\n",
    "    ['DK4_dg', '간경변증 진단 여부', 'cat'],\n",
    "    ['DM8_dg', '통풍 진단 여부', 'cat'],\n",
    "    ['BP17_dg', '폐쇄성수면무호흡 진단 여부' , 'cat'],       \n",
    "])\n",
    "\n",
    "train_disease = train_data[disease_features[:,0]]\n",
    "test_disease = test_data[disease_features[:,0]]\n",
    "\n",
    "total_features.extend(disease_features)"
   ]
  },
  {
   "cell_type": "markdown",
   "id": "2faa3e69",
   "metadata": {},
   "source": [
    "- 2.3 의료 이용 "
   ]
  },
  {
   "cell_type": "code",
   "execution_count": 9,
   "id": "e1d5a574",
   "metadata": {},
   "outputs": [],
   "source": [
    "treated_features = np.array([    \n",
    "    ['M_2_yr', '최근 1년 동안 본인이 병의원(치과 제외) 진료(검사 또는 치료)가 필요하였으나 받지 못한 적이 있습니까?', 'cat'],\n",
    "])\n",
    "train_treated = train_data[treated_features[:,0]]\n",
    "test_treated = test_data[treated_features[:,0]]\n",
    "\n",
    "total_features.extend(treated_features)"
   ]
  },
  {
   "cell_type": "markdown",
   "id": "a21b6157",
   "metadata": {},
   "source": [
    "- 2-4. 예방접종 및 건강검진"
   ]
  },
  {
   "cell_type": "code",
   "execution_count": 10,
   "id": "43624df0",
   "metadata": {},
   "outputs": [],
   "source": [
    "medical_features = np.array([    \n",
    "    ['BH9_11', '독감 예방접종 여부', 'cat'],\n",
    "    ['BH1', '건강 검진 여부', 'cat'],\n",
    "    ['BH2_61', '암 검진 여부', 'cat'],\n",
    "    ])\n",
    "    \n",
    "train_medical = train_data[medical_features[:,0]]\n",
    "test_medical = test_data[medical_features[:,0]]\n",
    "\n",
    "total_features.extend(medical_features)"
   ]
  },
  {
   "cell_type": "markdown",
   "id": "65367e3b",
   "metadata": {},
   "source": [
    "- 2-5. 활동제한 및 삶의 질"
   ]
  },
  {
   "cell_type": "code",
   "execution_count": 11,
   "id": "78dee5fa",
   "metadata": {
    "scrolled": true
   },
   "outputs": [],
   "source": [
    "activity_features = np.array([    \n",
    "    ['LQ4_00', '신체 혹은 정신 장애로 인한 제한 여부', 'cat'],\n",
    "    ['LQ1_sb', '질병이나 손상으로 인해 하루종일 누워서 보내야 했던 날 여부', 'cat'],\n",
    "    ['LQ2_ab' , '질병이나 손상으로 인해 결석 혹은 결근 여부' ,'cat'],\n",
    "    ['LQ_1EQL' ,'운동능력 조사' , 'cat'],\n",
    "    ['LQ_2EQL' ,'자기관리 조사' , 'cat'],\n",
    "    ['LQ_3EQL' ,'일상활동 조사' , 'cat'],\n",
    "    ['LQ_4EQL' ,'통증 및 불편 조사' , 'cat'],\n",
    "    ['LQ_5EQL' ,'불안 및 우울 조사' , 'cat'],\n",
    "    ['LQ_1HT', '계단오르기 조사', 'cat'], \n",
    "    ['LQ_2HT', '통증 조사', 'cat'], \n",
    "    ['LQ_3HT', '기운 조사', 'cat'], \n",
    "    ['LQ_4HT', '일하기 조사', 'cat'], \n",
    "    ['LQ_5HT', '우울 조사', 'cat'], \n",
    "    ['LQ_6HT', '기억 조사', 'cat'], \n",
    "    ['LQ_7HT', '잠자기 조사', 'cat'], \n",
    "    ['LQ_8HT', '행복 조사', 'cat'], \n",
    "    \n",
    "])\n",
    "    \n",
    "train_activity = train_data[activity_features[:,0]]\n",
    "test_activity = test_data[activity_features[:,0]]\n",
    "\n",
    "total_features.extend(activity_features)"
   ]
  },
  {
   "cell_type": "markdown",
   "id": "23f48c91",
   "metadata": {},
   "source": [
    "- 2-6. 손상(사고 및 중독)"
   ]
  },
  {
   "cell_type": "code",
   "execution_count": 12,
   "id": "3c55fc75",
   "metadata": {},
   "outputs": [],
   "source": [
    "harm_features = np.array([\n",
    "    ['AC1_yr', '1년간 손상발생여부', 'cat']\n",
    "])\n",
    "train_harm = train_data[harm_features[:,0]]\n",
    "test_harm = test_data[harm_features[:,0]]\n",
    "\n",
    "total_features.extend(harm_features)"
   ]
  },
  {
   "cell_type": "markdown",
   "id": "5f43bc50",
   "metadata": {},
   "source": [
    "- 2-7. 입원 및 외래이용"
   ]
  },
  {
   "cell_type": "code",
   "execution_count": 13,
   "id": "02dd175b",
   "metadata": {},
   "outputs": [],
   "source": [
    "admission_features = np.array([\n",
    "    ['MH1_yr', '입원  여부', 'cat'],\n",
    "    ['MO1_wk', '한의원 치료 여부', 'cat']\n",
    "])\n",
    "train_admission = train_data[admission_features[:,0]]\n",
    "test_admission = test_data[admission_features[:,0]]\n",
    "\n",
    "total_features.extend(admission_features)"
   ]
  },
  {
   "cell_type": "markdown",
   "id": "11bd8c84",
   "metadata": {},
   "source": [
    "- 2-8. 교육 및 경제활동"
   ]
  },
  {
   "cell_type": "code",
   "execution_count": 14,
   "id": "fd186d18",
   "metadata": {},
   "outputs": [],
   "source": [
    "social_features = np.array([\n",
    "    ['educ', '학력', 'cat'],\n",
    "    ['graduat', '교육수준-졸업여부' ,'cat'],\n",
    "    ['EC1_1', '경제활동','cat'],\n",
    "    ['EC_lgw_2', '최장일자리 직종', 'cat'],\n",
    "    ['EC_lgw_4', '최장일자리 관계', 'cat'],\n",
    "    ['EC_pedu_1', '아버지 학력', 'cat'],\n",
    "    ['EC_pedu_2', '어머니 학력', 'cat'],\n",
    "])\n",
    "\n",
    "train_social = train_data[social_features[:,0]]\n",
    "test_social = test_data[social_features[:,0]]\n",
    "\n",
    "total_features.extend(social_features)"
   ]
  },
  {
   "cell_type": "markdown",
   "id": "a11cb535",
   "metadata": {},
   "source": [
    "- 2-9. 비만 및 체중조절"
   ]
  },
  {
   "cell_type": "code",
   "execution_count": 15,
   "id": "add6e1eb",
   "metadata": {},
   "outputs": [],
   "source": [
    "fat_features = np.array([\n",
    "    ['BO1', '주관적 체형 인식', 'cat'],\n",
    "    ['BO1_1', '체중변화', 'cat'],\n",
    "    ['BO2_1', '몸무게 조절 노력', 'cat'],    \n",
    "])\n",
    "\n",
    "train_fat = train_data[fat_features[:,0]]\n",
    "test_fat = test_data[fat_features[:,0]]\n",
    "\n",
    "total_features.extend(fat_features)"
   ]
  },
  {
   "cell_type": "markdown",
   "id": "2376197f",
   "metadata": {},
   "source": [
    "- 2-10. 음주"
   ]
  },
  {
   "cell_type": "code",
   "execution_count": 16,
   "id": "6c4abaa6",
   "metadata": {},
   "outputs": [],
   "source": [
    "drink_features = np.array([\n",
    "    ['BD1', '음주경험','cat'],\n",
    "    ['BD1_11', '음주빈도', 'cat'],\n",
    "    ['BD2_1', '음주량', 'cat'],\n",
    "    ['BD7_5', '음주 상담 여부', 'cat'],\n",
    "    ])\n",
    "\n",
    "train_drink = train_data[drink_features[:,0]]\n",
    "test_drink = test_data[drink_features[:,0]]\n",
    "\n",
    "total_features.extend(drink_features)"
   ]
  },
  {
   "cell_type": "markdown",
   "id": "c1424157",
   "metadata": {},
   "source": [
    "- 2-11. 안전의식"
   ]
  },
  {
   "cell_type": "code",
   "execution_count": 17,
   "id": "44b83870",
   "metadata": {
    "scrolled": true
   },
   "outputs": [],
   "source": [
    "safety_features = np.array([\n",
    "    ['BA2_12', '자가 안전벨트 착용', 'cat'],\n",
    "    ['BA2_13', '타가 앞자리 안전벨트 착용', 'cat'],\n",
    "    ['BA2_14', '타가 뒷자리 안전벨트 착용', 'cat'],\n",
    "    ['BA2_2_1', '음주 후 자전거', 'cat'],\n",
    "    ['BA2_2_3', '음주 후 오토바이', 'cat'],\n",
    "    ['BA2_2_5', '음주 후 자동차', 'cat'],\n",
    "    ['BA2_22', '음주 후 자동차 동승 횟수', 'cat'],\n",
    "])\n",
    "\n",
    "train_safety = train_data[safety_features[:,0]]\n",
    "test_safety = test_data[safety_features[:,0]]\n",
    "\n",
    "total_features.extend(safety_features)"
   ]
  },
  {
   "cell_type": "markdown",
   "id": "f06d5717",
   "metadata": {},
   "source": [
    "-  2-12. 수면 및 정신건강"
   ]
  },
  {
   "cell_type": "code",
   "execution_count": 18,
   "id": "7b81ce5a",
   "metadata": {},
   "outputs": [],
   "source": [
    "sleep_features = np.array([\n",
    "    ['BP16_1', '주중 수면시간', 'num'],\n",
    "    ['BP16_2', '주말 수면시간', 'num'],\n",
    "    ['BP1', '스트레스 정도' ,'cat'],\n",
    "    ['BP5', '2주 연속 우울감', 'cat'],\n",
    "    ['BP6_10', '자살 생각', 'cat'],\n",
    "    ['BP6_2', '자살 계획', 'cat'],\n",
    "    ['BP6_31', '자살 시도', 'cat'],\n",
    "    ['BP7', '정신 상담', 'cat']\n",
    "])\n",
    "\n",
    "train_sleep = train_data[sleep_features[:,0]]\n",
    "test_sleep = test_data[sleep_features[:,0]]\n",
    "\n",
    "total_features.extend(sleep_features)"
   ]
  },
  {
   "cell_type": "markdown",
   "id": "8f9a0325",
   "metadata": {},
   "source": [
    "- 2-13. 흡연"
   ]
  },
  {
   "cell_type": "code",
   "execution_count": 19,
   "id": "7e97ed07",
   "metadata": {},
   "outputs": [],
   "source": [
    "smoke_features = np.array([\n",
    "    ['BS1_1', '흡연여부', 'cat'],\n",
    "    ['BS12_37', '전자담배', 'cat'],\n",
    "    ['BS12_1', '니코틴 전자담배', 'cat'],\n",
    "])\n",
    "\n",
    "train_smoke = train_data[smoke_features[:,0]]\n",
    "test_smoke = test_data[smoke_features[:,0]]\n",
    "\n",
    "total_features.extend(smoke_features)"
   ]
  },
  {
   "cell_type": "markdown",
   "id": "86d847b1",
   "metadata": {},
   "source": [
    "- 2-14. 신체활동"
   ]
  },
  {
   "cell_type": "code",
   "execution_count": 20,
   "id": "f0e9c610",
   "metadata": {},
   "outputs": [],
   "source": [
    "physical_features = np.array([\n",
    "    ['BE3_71', '업무중 고강도 운동', 'cat'],\n",
    "    ['BE3_81', '업무중 중강도 운동', 'cat'],\n",
    "    ['BE3_91', '이동중 운동 여부', 'cat'],\n",
    "    ['BE3_75', '여가 고강도 운동', 'cat'],\n",
    "    ['BE3_85', '여가 중강도 운동', 'cat'],\n",
    "    ['BE8_1', '앉거나 누워있는 시간', 'num'],\n",
    "    ['BE3_31', '10분 이상 걸은 날', 'cat'],\n",
    "    ['BE5_1', '근력운동 일수', 'cat']\n",
    "])\n",
    "\n",
    "train_physical = train_data[physical_features[:,0]]\n",
    "test_physical = test_data[physical_features[:,0]]\n",
    "\n",
    "total_features.extend(physical_features)"
   ]
  },
  {
   "cell_type": "markdown",
   "id": "004e985b",
   "metadata": {},
   "source": [
    "# 3. 검진조사"
   ]
  },
  {
   "cell_type": "markdown",
   "id": "b3ce78ed",
   "metadata": {},
   "source": [
    "- 3-1. 검진기본조사"
   ]
  },
  {
   "cell_type": "code",
   "execution_count": 21,
   "id": "87ebd40f",
   "metadata": {},
   "outputs": [],
   "source": [
    "checkup_features = np.array([\n",
    "    ['HE_prg', '임신여부', 'cat'],\n",
    "     ['HE_fst', '공복시간', 'num'], #이상치 많음\n",
    "  \n",
    "    ['HE_HPfh1', '아버지 고혈압 여부', 'cat'], \n",
    "    ['HE_HPfh2', '어머니 고혈압 여부', 'cat'], \n",
    "    ['HE_HPfh3', '형제자매 고혈압 여부', 'cat'], \n",
    "\n",
    "    ['HE_HLfh1', '아버지 고지혈증 여부', 'cat'], \n",
    "    ['HE_HLfh2', '어머니 고지혈증 여부', 'cat'], \n",
    "    ['HE_HLfh3', '형제자매 고지혈증 여부', 'cat'], \n",
    "    \n",
    "    ['HE_IHDfh1', '아버지 허혈성심질환 여부', 'cat'], \n",
    "    ['HE_IHDfh2', '어머니 허혈성심질환 여부', 'cat'], \n",
    "    ['HE_IHDfh3', '형제자매 허혈성심질환 여부', 'cat'],\n",
    "    \n",
    "    ['HE_STRfh1', '아버지 뇌졸증 여부', 'cat'], \n",
    "    ['HE_STRfh2', '어머니 뇌졸증 여부', 'cat'], \n",
    "    ['HE_STRfh3', '형제자매 뇌졸증 여부', 'cat'], \n",
    "    \n",
    "    ['HE_DMfh1', '아버지 당뇨병 여부', 'cat'], \n",
    "    ['HE_DMfh2', '어머니 당뇨병 여부', 'cat'], \n",
    "    ['HE_DMfh3', '형제자매 당뇨병 여부', 'cat'], \n",
    "    \n",
    "    ['HE_THfh1', '아버지 갑상선질환 여부', 'cat'], \n",
    "    ['HE_THfh2', '어머니 갑상선질환 여부', 'cat'], \n",
    "    ['HE_THfh3', '형제자매 갑상선질환 여부', 'cat'], \n",
    "    \n",
    "    ['HE_HBfh1', '아버지 B형간염 여부', 'cat'], \n",
    "    ['HE_HBfh2', '어머니 B형간염 여부', 'cat'], \n",
    "    ['HE_HBfh3', '형제자매 B형간염 여부', 'cat'], \n",
    "])\n",
    "\n",
    "train_checkup = train_data[checkup_features[:,0]]\n",
    "test_checkup = test_data[checkup_features[:,0]]\n",
    "\n",
    "total_features.extend(checkup_features)"
   ]
  },
  {
   "cell_type": "markdown",
   "id": "5202a574",
   "metadata": {},
   "source": [
    "- 3-2. 혈압 측정"
   ]
  },
  {
   "cell_type": "code",
   "execution_count": 22,
   "id": "80fae80b",
   "metadata": {
    "scrolled": true
   },
   "outputs": [],
   "source": [
    "BP_features = np.array([\n",
    "    ['HE_rPLS', '맥박 규칙, 불규칙', 'cat'],\n",
    "    ['HE_sbp', '최종 수축기 혈압', 'num'],\n",
    "    ['HE_dbp', '최종 이완기 혈압', 'num'],\n",
    "    ['HE_HP', '고혈압 유병여부' ,'cat'],\n",
    "])\n",
    "\n",
    "train_BP = train_data[BP_features[:,0]]\n",
    "test_BP = test_data[BP_features[:,0]]\n",
    "\n",
    "total_features.extend(BP_features)"
   ]
  },
  {
   "cell_type": "markdown",
   "id": "062c4993",
   "metadata": {},
   "source": [
    "- 3.3 신체계측 : 비만에 직접적 영향을 준다고 판단해 삭제"
   ]
  },
  {
   "cell_type": "markdown",
   "id": "1d2aefd3",
   "metadata": {},
   "source": [
    "- 3.4 혈액검사"
   ]
  },
  {
   "cell_type": "code",
   "execution_count": 23,
   "id": "1654bd4b",
   "metadata": {},
   "outputs": [],
   "source": [
    "blood_features = np.array([\n",
    "    ['HE_glu', '공복 혈당', 'num'],\n",
    "    ['HE_HbA1c', '당화혈색소' ,'num'],\n",
    "    ['HE_insulin', '인슐린' ,'num'],\n",
    "    ['HE_HDL_st2', 'HDL-콜레스테롤(보정값)' ,'num'],\n",
    "    ['HE_TG', '중성지방' ,'num'],\n",
    "    ['HE_LDL_drct', 'LDL-콜레스테롤' ,'num'], #NA값이 많아 생략\n",
    "    ['HE_HBsAg', 'B형간염표면항원', 'num'],\n",
    "    ['HE_ast', 'AST(SGOT)', 'num'],\n",
    "    ['HE_alt', 'ALT(SGPT)', 'num'],\n",
    "    ['HE_hcv', 'C형간염항체(수치)', 'num'],\n",
    "    ['HE_HB', '헤모글로빈', 'num'],\n",
    "    ['HE_HCT', '헤마토크리트', 'num'],\n",
    "    ['HE_BUN', '혈중요소질소', 'num'],\n",
    "    ['HE_crea', '혈중크레아티닌', 'num'],\n",
    "    ['HE_WBC', '백혈구', 'num'],\n",
    "    ['HE_RBC', '적혈구', 'num'],\n",
    "    ['HE_Bplt', '혈소판', 'num'],\n",
    "    ['HE_Uacid', '요산', 'num'],\n",
    "    \n",
    "])\n",
    "\n",
    "train_blood = train_data[blood_features[:,0]]\n",
    "test_blood = test_data[blood_features[:,0]]\n",
    "\n",
    "total_features.extend(blood_features)"
   ]
  },
  {
   "cell_type": "markdown",
   "id": "c0b0fc8d",
   "metadata": {},
   "source": [
    "- 3.5 소변검사"
   ]
  },
  {
   "cell_type": "code",
   "execution_count": 24,
   "id": "e5075cff",
   "metadata": {
    "scrolled": true
   },
   "outputs": [],
   "source": [
    "urine_features = np.array([\n",
    "    ['HE_Uph', '요산도', 'num'],\n",
    "    ['HE_Unitr', '아질산염', 'cat'],\n",
    "    ['HE_Usg', '요비중', 'num'],\n",
    "    ['HE_Upro', '요단백', 'cat'],\n",
    "    ['HE_Uglu', '요당', 'cat'],\n",
    "    ['HE_Uket', '요케톤', 'cat'],\n",
    "    ['HE_Ubil', '요빌리루빈', 'cat'],\n",
    "    ['HE_Ubld', '요잠혈', 'cat'],\n",
    "    ['HE_Uro', '유로빌리노겐', 'cat'],\n",
    "    ['HE_Ucrea', '요크레아티닌', 'num'],\n",
    "    ['HE_Una', '요나트륨', 'num'],\n",
    "   ['HE_Ualb', '요알부민', 'num'], #이상치가 많아 생략\n",
    "   ['HE_Ukal', '요칼륨', 'num'], #이상치가 많아 생략\n",
    "     \n",
    "])\n",
    "\n",
    "train_urine = train_data[urine_features[:,0]]\n",
    "test_urine = test_data[urine_features[:,0]]\n",
    "\n",
    "total_features.extend(urine_features)"
   ]
  },
  {
   "cell_type": "markdown",
   "id": "3cec5ba1",
   "metadata": {},
   "source": [
    "- 3.6 폐기능 검사 : 미검사자가 절반가까이 됨"
   ]
  },
  {
   "cell_type": "code",
   "execution_count": 25,
   "id": "a36f7d5d",
   "metadata": {},
   "outputs": [
    {
     "data": {
      "text/plain": [
       "\"\\nlung_features = np.array([\\n    ['HE_fvc', '노력성 폐활량', 'num'],\\n    ['HE_fev1', '1초간 노력성 호기량', 'num'],\\n    ['HE_fev6', '6초간 노력성 호기량', 'num'],\\n    ['HE_fef25_75', '노력성 호기 중간유량', 'num'],\\n    ['HE_pef', '최대 호기유속', 'num'],\\n    ['HE_COPD', '폐기능 판정결과', 'cat'],\\n    ['HE_cough1', '연속 3개월이상 기침 경험여부', 'cat'],\\n    ['HE_sput1', '연속 3개월이상 가래 경험여부', 'cat'],\\n    ['HE_PFTdr', '만성폐쇄성폐질환 의사진단 여부', 'cat'],\\n])\\n\\ntrain_lung = train_data[lung_features[:,0]]\\ntest_lung = test_data[lung_features[:,0]]\\n\""
      ]
     },
     "execution_count": 25,
     "metadata": {},
     "output_type": "execute_result"
    }
   ],
   "source": [
    "\"\"\"\n",
    "lung_features = np.array([\n",
    "    ['HE_fvc', '노력성 폐활량', 'num'],\n",
    "    ['HE_fev1', '1초간 노력성 호기량', 'num'],\n",
    "    ['HE_fev6', '6초간 노력성 호기량', 'num'],\n",
    "    ['HE_fef25_75', '노력성 호기 중간유량', 'num'],\n",
    "    ['HE_pef', '최대 호기유속', 'num'],\n",
    "    ['HE_COPD', '폐기능 판정결과', 'cat'],\n",
    "    ['HE_cough1', '연속 3개월이상 기침 경험여부', 'cat'],\n",
    "    ['HE_sput1', '연속 3개월이상 가래 경험여부', 'cat'],\n",
    "    ['HE_PFTdr', '만성폐쇄성폐질환 의사진단 여부', 'cat'],\n",
    "])\n",
    "\n",
    "train_lung = train_data[lung_features[:,0]]\n",
    "test_lung = test_data[lung_features[:,0]]\n",
    "\"\"\""
   ]
  },
  {
   "cell_type": "markdown",
   "id": "3799544d",
   "metadata": {},
   "source": [
    "- 3-7-4. 구강면접"
   ]
  },
  {
   "cell_type": "code",
   "execution_count": 26,
   "id": "4c9b701f",
   "metadata": {},
   "outputs": [],
   "source": [
    "teeth_features = np.array([\n",
    "    ['OR1', '본인인지 구강건강상태', 'cat'],\n",
    "    ['O_pain', '최근 1년간 치통 경험유무', 'cat'],\n",
    "    ['O_ortho', '교정치료 경험 유무', 'cat'],\n",
    "    ['BM1_0', '어제 하루 칫솔질 여부', 'cat'],\n",
    "    ['BM1_1', '칫솔질 시기: 아침식사 전', 'cat'],\n",
    "    ['BM1_2', '칫솔질 시기: 아침식사 후', 'cat'],\n",
    "    ['BM1_3', '칫솔질 시기: 점심식사 전', 'cat'],\n",
    "    ['BM1_4', '칫솔질 시기: 점심식사 후', 'cat'],\n",
    "    ['BM1_5', '칫솔질 시기: 저녁식사 전', 'cat'],\n",
    "    ['BM1_6', '칫솔질 시기: 저녁식사 후', 'cat'],\n",
    "    ['BM1_7', '칫솔질 시기: 간식 후', 'cat'],\n",
    "    ['BM1_8', '칫솔질 시기: 잠자기 전', 'cat'],\n",
    "    ['BM2_1', '사용용품: 치실(Floss)', 'cat'],\n",
    "    ['BM2_3', '사용용품: 치간칫솔', 'cat'],\n",
    "    ['BM2_2', '사용용품: 양치용액(구강세정액)', 'cat'],\n",
    "    ['BM2_4', '사용용품: 전동칫솔', 'cat'],\n",
    "    ['BM2_5', '사용용품: 기타', 'cat'],\n",
    "    ['BM13', '운동 또는 사고로 인한 치아손상 경험여부', 'cat'],\n",
    "    ['BM7', '씹기 문제', 'cat'],\n",
    "    ['BM14', '치과진료 미치료 여부', 'cat'],\n",
    "])\n",
    "\n",
    "train_teeth = train_data[teeth_features[:,0]]\n",
    "test_teeth = test_data[teeth_features[:,0]]\n",
    "\n",
    "total_features.extend(teeth_features)"
   ]
  },
  {
   "cell_type": "markdown",
   "id": "01eff296",
   "metadata": {},
   "source": [
    "- 3.8 악력"
   ]
  },
  {
   "cell_type": "code",
   "execution_count": 27,
   "id": "28291b31",
   "metadata": {},
   "outputs": [],
   "source": [
    "grip_features = np.array([\n",
    "    ['GS_use', '주요 사용하는 손', 'cat'],\n",
    "    ['GS_mea_r_1', '1차 악력측정_오른손', 'num'],\n",
    "    ['GS_mea_l_1', '1차 악력측정_왼손', 'num'],\n",
    "    ['GS_mea_r_2', '2차 악력측정_오른손', 'num'],\n",
    "    ['GS_mea_l_2', '2차 악력측정_왼손', 'num'],\n",
    "    ['GS_mea_r_3', '3차 악력측정_오른손', 'num'],\n",
    "    ['GS_mea_l_3', '3차 악력측정_왼손', 'num'],\n",
    "    \n",
    "])\n",
    "\n",
    "train_grip = train_data[grip_features[:,0]]\n",
    "test_grip = test_data[grip_features[:,0]]\n",
    "\n",
    "total_features.extend(grip_features)"
   ]
  },
  {
   "cell_type": "markdown",
   "id": "999fcd23",
   "metadata": {},
   "source": [
    "# 4. 영양조사"
   ]
  },
  {
   "cell_type": "markdown",
   "id": "48bba83f",
   "metadata": {},
   "source": [
    "- 4.1 식생활조사\n",
    "    - 영유아 식생활  제외\n",
    "    - 모두 미응답자 300명 이상"
   ]
  },
  {
   "cell_type": "code",
   "execution_count": 28,
   "id": "3ad5a6c6",
   "metadata": {},
   "outputs": [],
   "source": [
    "EH_features = np.array([ #Eating Habits\n",
    "    ['L_BR', '1일전 아침 결식', 'cat'],\n",
    "    ['L_LN', '1일전 점심 결식', 'cat'],\n",
    "    ['L_DN', '1일전 저녁 결식', 'cat'],\n",
    "    ['L_BR_FQ', '1년간 주간 아침 식사 빈도', 'cat'],\n",
    "    ['L_LN_FQ', '1년간 주간 점심 식사 빈도', 'cat'],\n",
    "    ['L_DN_FQ', '1년간 주간 저녁 식사 빈도', 'cat'],\n",
    "    ['L_BR_TO', '1년간 아침 식사 동반자 여부', 'cat'],\n",
    "    ['L_LN_TO', '1년간 점심 식사 동반자 여부', 'cat'],\n",
    "    ['L_DN_TO', '1년간 저녁 식사 동반자 여부', 'cat'],\n",
    "    ['L_OUT_FQ', '외식 횟수', 'cat'],\n",
    "    ['LS_1YR', '식이보충제', 'cat'],\n",
    "    ['LK_EDU', '영양교육', 'cat'],\n",
    "    ['LK_LB_CO', '영양표시 인지여부', 'cat'],\n",
    "    \n",
    "])\n",
    "\n",
    "train_EH = train_data[EH_features[:,0]]\n",
    "test_EH = test_data[EH_features[:,0]]\n",
    "\n",
    "total_features.extend(EH_features)"
   ]
  },
  {
   "cell_type": "markdown",
   "id": "7d24e530",
   "metadata": {},
   "source": [
    "- 4.2 식품 섭취 조사"
   ]
  },
  {
   "cell_type": "markdown",
   "id": "7a464075",
   "metadata": {},
   "source": [
    "- 4-2-1. 식품섭취조사(개인별 24시간 회상조사) – 조사자료"
   ]
  },
  {
   "cell_type": "code",
   "execution_count": 29,
   "id": "1a92cca4",
   "metadata": {},
   "outputs": [],
   "source": [
    "intake_features = np.array([    \n",
    "    ['N_DIET', '식사요법여부', 'cat'],\n",
    "    ['N_WAT_C', '물섭취량(컵)', 'num'],\n",
    "    \n",
    "    ['N_EN', '에너지', 'num'],\n",
    "    ['N_WATER', '수분', 'num'],\n",
    "    ['N_PROT', '단백질', 'num'],\n",
    "    ['N_FAT', '지방', 'num'],\n",
    "    ['N_SFA', '포화지방산', 'num'],\n",
    "    ['N_MUFA', '단일불포화지방산', 'num'],\n",
    "    ['N_PUFA', '다가불포화지방산', 'num'],\n",
    "    ['N_N3', 'n-3계 지방산', 'num'],\n",
    "    ['N_N6', 'n-6계 지방산', 'num'],\n",
    "    ['N_CHOL', '콜레스테롤', 'num'],\n",
    "    ['N_CHO', '탄수화물', 'num'],\n",
    "    ['N_TDF', '식이섬유', 'num'],\n",
    "    ['N_SUGAR', '당', 'num'],\n",
    "    ['N_CA', '칼슘', 'num'],\n",
    "    ['N_PHOS', '인', 'num'],\n",
    "    ['N_FE', '철', 'num'],\n",
    "    ['N_NA', '나트륨', 'num'],\n",
    "    ['N_K', '칼륨', 'num'],\n",
    "    ['N_VA_RAE', '비타민A', 'num'],\n",
    "    ['N_CAROT', '베타카로틴', 'num'],\n",
    "    ['N_RETIN', '레티놀', 'num'],\n",
    "    ['N_B1', '티아민', 'num'],\n",
    "    ['N_B2', '리보플라빈', 'num'],\n",
    "    ['N_NIAC', '나이아신', 'num'],\n",
    "    ['N_FOLATE', '엽산', 'num'],\n",
    "    ['N_VITC', '비타민C', 'num'],\n",
    "])\n",
    "\n",
    "train_intake = train_data[intake_features[:,0]]\n",
    "test_intake = test_data[intake_features[:,0]]\n",
    "\n",
    "total_features.extend(intake_features)"
   ]
  },
  {
   "cell_type": "code",
   "execution_count": 30,
   "id": "3b6d6480",
   "metadata": {},
   "outputs": [],
   "source": [
    "names = [\n",
    "  'normal',  \n",
    "  'family', 'disease', 'treated', 'medical', 'activity', 'harm', 'admission', 'social', 'fat', 'drink', 'safety', 'sleep', 'smoke','physical',\n",
    "    'checkup', 'BP', 'blood', 'urine', 'teeth', 'grip', \n",
    "    'EH', 'intake'\n",
    "]"
   ]
  },
  {
   "cell_type": "code",
   "execution_count": 31,
   "id": "92b0c4a4",
   "metadata": {},
   "outputs": [],
   "source": [
    "def treat_categorical_data(train, test, column) :\n",
    "    from sklearn.preprocessing import OneHotEncoder\n",
    "    encoder = OneHotEncoder(handle_unknown='ignore')\n",
    "    train_oh = encoder.fit_transform(train[[column]]).toarray()\n",
    "    test_oh = encoder.transform(test[[column]]).toarray()\n",
    "    \n",
    "    train_OH = pd.DataFrame(train_oh, columns = encoder.get_feature_names([column]))\n",
    "    test_OH = pd.DataFrame(test_oh, columns = encoder.get_feature_names([column]))\n",
    "    return train_OH, test_OH\n",
    "\n",
    "def treat_numerical_data(train, test, column) : \n",
    "    _, bins = pd.qcut(train[column], q=5, retbins=True, duplicates='drop')\n",
    "    train_num =pd.DataFrame(train[column].apply(lambda x : return_group(x, bins))).rename(columns = {column:column+'_5group'})\n",
    "    test_num = pd.DataFrame(test[column].apply(lambda x : return_group(x, bins))).rename(columns = {column:column+'_5group'})\n",
    "    return train_num, test_num\n",
    "    \n",
    "def return_group(x, bins) : \n",
    "    num = 0\n",
    "    for b in bins : \n",
    "        if x < b : \n",
    "            return num\n",
    "        else  :\n",
    "            num += 1\n",
    "    return num\n",
    "    \n",
    "def return_group_data(train, test, features) : \n",
    "    from itertools import combinations\n",
    "    \n",
    "    numerical_features = [x[0] for x in features if x[2] == 'num']\n",
    "    categorical_features = [x[0] for x in features if x[2] == 'cat']\n",
    "    \n",
    "    for column in numerical_features : \n",
    "        train[column] = train[column].fillna(train[column].mean())\n",
    "        test[column] = test[column].fillna(train[column].mean())\n",
    "        g_train, g_test = treat_numerical_data(train, test, column)\n",
    "        train = pd.concat([train, g_train], axis = 1)\n",
    "        test = pd.concat([test, g_test], axis = 1)\n",
    "        categorical_features.append(column + '_5group')\n",
    "    \n",
    "    for column in categorical_features : \n",
    "        fill_value = train[column].mode().values[0]\n",
    "        train[column] = train[column].fillna(fill_value)\n",
    "        test[column] = test[column].fillna(fill_value)\n",
    "    \n",
    "    for column in categorical_features : \n",
    "        train_oh, test_oh = treat_categorical_data(train, test, column)\n",
    "        train = pd.concat([train, train_oh], axis = 1).drop(columns = column)\n",
    "        test = pd.concat([test, test_oh], axis = 1).drop(columns = column)\n",
    "\n",
    "    return train, test"
   ]
  },
  {
   "cell_type": "markdown",
   "id": "687d4487",
   "metadata": {},
   "source": [
    "# Modeling"
   ]
  },
  {
   "cell_type": "code",
   "execution_count": 32,
   "id": "8777200d",
   "metadata": {},
   "outputs": [],
   "source": [
    "from sklearn.ensemble import RandomForestClassifier\n",
    "from sklearn.metrics import accuracy_score\n",
    "from lightgbm import LGBMClassifier\n",
    "from tqdm import tqdm\n",
    "\n",
    "model = LGBMClassifier()\n",
    "\n",
    "y_train = train_data['Obesity'].values\n",
    "y_test = test_data['Obesity'].values"
   ]
  },
  {
   "cell_type": "code",
   "execution_count": 33,
   "id": "dd4b09d3",
   "metadata": {
    "scrolled": true
   },
   "outputs": [
    {
     "name": "stdout",
     "output_type": "stream",
     "text": [
      "==============================\n",
      "normal DATA\n",
      "raw shape :  9 -> new shape :  51\n",
      "score : 0.36451612903225805\n",
      "==============================\n",
      "\n",
      "==============================\n",
      "family DATA\n",
      "raw shape :  8 -> new shape :  41\n",
      "score : 0.37225806451612903\n",
      "==============================\n",
      "\n",
      "==============================\n",
      "disease DATA\n",
      "raw shape :  35 -> new shape :  104\n",
      "score : 0.38387096774193546\n",
      "==============================\n",
      "\n",
      "==============================\n",
      "treated DATA\n",
      "raw shape :  1 -> new shape :  4\n",
      "score : 0.38838709677419353\n",
      "==============================\n",
      "\n",
      "==============================\n",
      "medical DATA\n",
      "raw shape :  3 -> new shape :  9\n",
      "score : 0.38838709677419353\n",
      "==============================\n",
      "\n",
      "==============================\n",
      "activity DATA\n",
      "raw shape :  16 -> new shape :  70\n",
      "score : 0.36\n",
      "==============================\n",
      "\n",
      "==============================\n",
      "harm DATA\n",
      "raw shape :  1 -> new shape :  3\n",
      "score : 0.38838709677419353\n",
      "==============================\n",
      "\n",
      "==============================\n",
      "admission DATA\n",
      "raw shape :  2 -> new shape :  6\n",
      "score : 0.38838709677419353\n",
      "==============================\n",
      "\n",
      "==============================\n",
      "social DATA\n",
      "raw shape :  7 -> new shape :  55\n",
      "score : 0.3735483870967742\n",
      "==============================\n",
      "\n",
      "==============================\n",
      "fat DATA\n",
      "raw shape :  3 -> new shape :  15\n",
      "score : 0.5670967741935484\n",
      "==============================\n",
      "\n",
      "==============================\n",
      "drink DATA\n",
      "raw shape :  4 -> new shape :  21\n",
      "score : 0.4070967741935484\n",
      "==============================\n",
      "\n",
      "==============================\n",
      "safety DATA\n",
      "raw shape :  7 -> new shape :  39\n",
      "score : 0.37032258064516127\n",
      "==============================\n",
      "\n",
      "==============================\n",
      "sleep DATA\n",
      "raw shape :  8 -> new shape :  33\n",
      "score : 0.3690322580645161\n",
      "==============================\n",
      "\n",
      "==============================\n",
      "smoke DATA\n",
      "raw shape :  3 -> new shape :  10\n",
      "score : 0.39225806451612905\n",
      "==============================\n",
      "\n",
      "==============================\n",
      "physical DATA\n",
      "raw shape :  8 -> new shape :  38\n",
      "score : 0.3567741935483871\n",
      "==============================\n",
      "\n",
      "==============================\n",
      "checkup DATA\n",
      "raw shape :  23 -> new shape :  80\n",
      "score : 0.3741935483870968\n",
      "==============================\n",
      "\n",
      "==============================\n",
      "BP DATA\n",
      "raw shape :  4 -> new shape :  19\n",
      "score : 0.3967741935483871\n",
      "==============================\n",
      "\n",
      "==============================\n",
      "blood DATA\n",
      "raw shape :  18 -> new shape :  123\n",
      "score : 0.4619354838709677\n",
      "==============================\n",
      "\n",
      "==============================\n",
      "urine DATA\n",
      "raw shape :  13 -> new shape :  70\n",
      "score : 0.36129032258064514\n",
      "==============================\n",
      "\n",
      "==============================\n",
      "teeth DATA\n",
      "raw shape :  20 -> new shape :  72\n",
      "score : 0.3606451612903226\n",
      "==============================\n",
      "\n",
      "==============================\n",
      "grip DATA\n",
      "raw shape :  7 -> new shape :  45\n",
      "score : 0.3632258064516129\n",
      "==============================\n",
      "\n",
      "==============================\n",
      "EH DATA\n",
      "raw shape :  13 -> new shape :  40\n",
      "score : 0.35870967741935483\n",
      "==============================\n",
      "\n",
      "==============================\n",
      "intake DATA\n",
      "raw shape :  28 -> new shape :  192\n",
      "score : 0.3690322580645161\n",
      "==============================\n",
      "\n"
     ]
    }
   ],
   "source": [
    "X_train = pd.DataFrame()\n",
    "X_test = pd.DataFrame()\n",
    "\n",
    "for name in names : \n",
    "    train_df = globals()['train_'+name].reset_index(drop = True)\n",
    "    test_df = globals()['test_'+name].reset_index(drop = True)\n",
    "    features = globals()[name+'_features']\n",
    "    \n",
    "    new_train, new_test = return_group_data(train_df, test_df, features)\n",
    "    \n",
    "    X_train = pd.concat([X_train, new_train], axis = 1)\n",
    "    X_test = pd.concat([X_test, new_test], axis = 1)\n",
    "    model.fit(new_train, y_train)\n",
    "    p = model.predict(new_test)\n",
    "    print('==='*10)\n",
    "    print(name, 'DATA')\n",
    "    print('raw shape : ', train_df.shape[1], '-> new shape : ', new_train.shape[1])\n",
    "    print('score :', accuracy_score(y_test, p))\n",
    "    print('==='*10)\n",
    "    print('')"
   ]
  },
  {
   "cell_type": "code",
   "execution_count": 38,
   "id": "66e962a3",
   "metadata": {},
   "outputs": [],
   "source": [
    "from xgboost import XGBClassifier\n",
    "from lightgbm import LGBMClassifier\n",
    "from sklearn.ensemble import RandomForestClassifier, VotingClassifier\n",
    "from sklearn.model_selection import StratifiedKFold"
   ]
  },
  {
   "cell_type": "code",
   "execution_count": 39,
   "id": "9e011731",
   "metadata": {},
   "outputs": [],
   "source": [
    "def return_best_rf_model(X_train_data, target_data, rf_pbounds, num_init, num_iter, seed) : \n",
    "    from bayes_opt import BayesianOptimization\n",
    "    from sklearn.model_selection import cross_val_score\n",
    "    \n",
    "    skf = StratifiedKFold(n_splits = 4, shuffle = True, random_state = seed)\n",
    "    def rf_opt(n_estimators, max_depth, min_samples_split):\n",
    "    \n",
    "        params = {\n",
    "            'n_estimators' : int(round(n_estimators)),\n",
    "            'max_depth': int(round(max_depth)),\n",
    "            'min_samples_split' : int(round(min_samples_split)),\n",
    "            'random_state' : seed,\n",
    "            'n_jobs' : -1\n",
    "        }\n",
    "\n",
    "        rf_cls = RandomForestClassifier(**params)\n",
    "        scores = cross_val_score(rf_cls, X_train_data, target_data,scoring = 'accuracy', cv=skf, n_jobs=-1)\n",
    "        mean_score = np.mean(scores)\n",
    "        return mean_score\n",
    "\n",
    "\n",
    "    BO_rf = BayesianOptimization(f = rf_opt, pbounds = rf_pbounds, random_state=seed)\n",
    "    BO_rf.maximize(init_points=num_init, n_iter=num_iter)\n",
    "    max_params = BO_rf.max['params']\n",
    "    max_params['n_estimators'] = int(round(max_params['n_estimators']))\n",
    "    max_params['max_depth'] = int(round(max_params['max_depth']))\n",
    "    max_params['min_samples_split'] = int(round(max_params['min_samples_split']))\n",
    "    max_params['n_jobs'] = -1\n",
    "    max_params['random_state'] = seed\n",
    "    print(max_params)\n",
    "\n",
    "    model_rf = RandomForestClassifier(**max_params)\n",
    "    return model_rf"
   ]
  },
  {
   "cell_type": "code",
   "execution_count": 40,
   "id": "28e9d8e2",
   "metadata": {},
   "outputs": [],
   "source": [
    "def return_best_lgbm_model(X_train_data, target_data, lgbm_pbounds, num_init, num_iter, seed) : \n",
    "    from bayes_opt import BayesianOptimization\n",
    "    from sklearn.model_selection import cross_val_score\n",
    "    \n",
    "    skf = StratifiedKFold(n_splits = 4, shuffle = True, random_state = seed)\n",
    "    def lgbm_opt(learning_rate, n_estimators, max_depth, subsample, colsample_bytree, min_child_samples):\n",
    "    \n",
    "        params = {\n",
    "            'learning_rate' : learning_rate,\n",
    "            'n_estimators' : int(round(n_estimators)),\n",
    "            'max_depth': int(round(max_depth)),\n",
    "            'subsample' : subsample,\n",
    "            'colsample_bytree' : colsample_bytree,\n",
    "            'min_child_samples' : int(round(min_child_samples)),\n",
    "            'random_state' : seed,\n",
    "            'n_jobs' : -1\n",
    "        }\n",
    "\n",
    "        lgbm_cls = LGBMClassifier(**params)\n",
    "        scores = cross_val_score(lgbm_cls, X_train_data, target_data,scoring = 'accuracy', cv=skf, n_jobs=-1)\n",
    "        mean_score = np.mean(scores)\n",
    "        return mean_score\n",
    "\n",
    "    BO_lgbm = BayesianOptimization(f = lgbm_opt, pbounds = lgbm_pbounds, random_state=seed)\n",
    "    BO_lgbm.maximize(init_points=num_init, n_iter=num_iter)\n",
    "    max_params = BO_lgbm.max['params']\n",
    "    max_params['n_estimators'] = int(round(max_params['n_estimators']))\n",
    "    max_params['max_depth'] = int(round(max_params['max_depth']))\n",
    "    max_params['min_child_samples'] = int(round(max_params['min_child_samples']))\n",
    "    max_params['n_jobs'] = -1\n",
    "    max_params['random_state'] = seed\n",
    "    print(max_params)\n",
    "\n",
    "    model_lgbm = LGBMClassifier(**max_params)\n",
    "    return model_lgbm"
   ]
  },
  {
   "cell_type": "code",
   "execution_count": 41,
   "id": "1ad4a809",
   "metadata": {},
   "outputs": [],
   "source": [
    "def return_best_xgb_model(X_train_data, target_data, xgb_pbounds, num_init, num_iter, seed) : \n",
    "    from bayes_opt import BayesianOptimization\n",
    "    from sklearn.model_selection import cross_val_score\n",
    "    \n",
    "    skf = StratifiedKFold(n_splits = 4, shuffle = True, random_state = seed)\n",
    "    def xgb_opt(learning_rate, n_estimators, max_depth, subsample, colsample_bytree):\n",
    "    \n",
    "        params = {\n",
    "            'learning_rate' : learning_rate,\n",
    "            'n_estimators' : int(round(n_estimators)),\n",
    "            'max_depth': int(round(max_depth)),\n",
    "            'subsample' : subsample,\n",
    "            'colsample_bytree' : colsample_bytree,\n",
    "            'random_state' : seed,\n",
    "            'n_jobs' : -1\n",
    "        }\n",
    "\n",
    "        xgb_cls = XGBClassifier(**params)\n",
    "        scores = cross_val_score(xgb_cls, X_train_data, target_data,scoring = 'accuracy', cv=skf, n_jobs=-1)\n",
    "        mean_score = np.mean(scores)\n",
    "        return mean_score\n",
    "\n",
    "    BO_xgb = BayesianOptimization(f = xgb_opt, pbounds = xgb_pbounds, random_state=seed)\n",
    "    BO_xgb.maximize(init_points=num_init, n_iter=num_iter)\n",
    "    max_params = BO_xgb.max['params']\n",
    "    max_params['n_estimators'] = int(round(max_params['n_estimators']))\n",
    "    max_params['max_depth'] = int(round(max_params['max_depth']))\n",
    "    max_params['n_jobs'] = -1\n",
    "    max_params['random_state'] = seed\n",
    "    print(max_params)\n",
    "\n",
    "    model_xgb = XGBClassifier(**max_params)\n",
    "    return model_xgb"
   ]
  },
  {
   "cell_type": "code",
   "execution_count": 42,
   "id": "5014e0a5",
   "metadata": {},
   "outputs": [],
   "source": [
    "lgbm_pbounds = {'learning_rate' : (0.01,0.1),\n",
    "           'n_estimators' : (30,300),\n",
    "           'max_depth' : (5,30),\n",
    "           'subsample' : (0.4,1),\n",
    "           'colsample_bytree' : (0.4,1.0),\n",
    "           'min_child_samples' : (20, 40)\n",
    "           }\n",
    "\n",
    "xgb_pbounds = {'learning_rate' : (0.01,0.1),\n",
    "           'n_estimators' : (30,300),\n",
    "           'max_depth' : (2,15),\n",
    "           'subsample' : (0.4,1),\n",
    "           'colsample_bytree' : (0.4,1.0)\n",
    "           }\n",
    "\n",
    "rf_pbounds = {\n",
    "           'n_estimators' : (30,300),\n",
    "           'max_depth' : (10,50),\n",
    "           'min_samples_split' : (2, 30),            \n",
    "           }"
   ]
  },
  {
   "cell_type": "code",
   "execution_count": 43,
   "id": "6064842c",
   "metadata": {},
   "outputs": [],
   "source": [
    "def return_estimators() : \n",
    "    from datetime import datetime\n",
    "    print('Random Forest Optimization Initiated At : ', str(datetime.now()))\n",
    "    print('')\n",
    "    model_rf = return_best_rf_model(X_train, y_train, rf_pbounds, 20,20,2022)\n",
    "    print('');print('')\n",
    "\n",
    "    print('LGBM CLassifier Optimization Initiated At : ', str(datetime.now()))\n",
    "    print('')\n",
    "    model_lgbm = return_best_lgbm_model(X_train, y_train, lgbm_pbounds, 20,20,2022)\n",
    "    print(''); print('')\n",
    "\n",
    "    print('XGB CLassifier Optimization Initiated At : ', str(datetime.now()))\n",
    "    print('')\n",
    "    model_xgb = return_best_xgb_model(X_train, y_train, xgb_pbounds, 20,20,2022)\n",
    "    print(''); print('')\n",
    "    \n",
    "    estimators =[ \n",
    "                                ('RF', model_rf), \n",
    "                                ('LGBM', model_lgbm),\n",
    "                                ('XGB', model_xgb),\n",
    "                                ]    \n",
    "\n",
    "    return estimators"
   ]
  },
  {
   "cell_type": "code",
   "execution_count": 44,
   "id": "784ca2ad",
   "metadata": {},
   "outputs": [
    {
     "name": "stdout",
     "output_type": "stream",
     "text": [
      "Random Forest Optimization Initiated At :  2022-01-11 04:20:24.820558\n",
      "\n",
      "|   iter    |  target   | max_depth | min_sa... | n_esti... |\n",
      "-------------------------------------------------------------\n",
      "| \u001b[0m 1       \u001b[0m | \u001b[0m 0.5745  \u001b[0m | \u001b[0m 10.37   \u001b[0m | \u001b[0m 15.97   \u001b[0m | \u001b[0m 60.61   \u001b[0m |\n",
      "| \u001b[95m 2       \u001b[0m | \u001b[95m 0.5795  \u001b[0m | \u001b[95m 12.0    \u001b[0m | \u001b[95m 21.19   \u001b[0m | \u001b[95m 161.5   \u001b[0m |\n",
      "| \u001b[95m 3       \u001b[0m | \u001b[95m 0.5849  \u001b[0m | \u001b[95m 45.91   \u001b[0m | \u001b[95m 20.13   \u001b[0m | \u001b[95m 272.2   \u001b[0m |\n",
      "| \u001b[0m 4       \u001b[0m | \u001b[0m 0.5803  \u001b[0m | \u001b[0m 38.85   \u001b[0m | \u001b[0m 25.28   \u001b[0m | \u001b[0m 253.4   \u001b[0m |\n",
      "| \u001b[0m 5       \u001b[0m | \u001b[0m 0.581   \u001b[0m | \u001b[0m 43.34   \u001b[0m | \u001b[0m 28.8    \u001b[0m | \u001b[0m 129.4   \u001b[0m |\n",
      "| \u001b[0m 6       \u001b[0m | \u001b[0m 0.5846  \u001b[0m | \u001b[0m 29.79   \u001b[0m | \u001b[0m 11.51   \u001b[0m | \u001b[0m 197.2   \u001b[0m |\n",
      "| \u001b[0m 7       \u001b[0m | \u001b[0m 0.5829  \u001b[0m | \u001b[0m 49.1    \u001b[0m | \u001b[0m 4.7     \u001b[0m | \u001b[0m 230.9   \u001b[0m |\n",
      "| \u001b[0m 8       \u001b[0m | \u001b[0m 0.5797  \u001b[0m | \u001b[0m 21.7    \u001b[0m | \u001b[0m 10.36   \u001b[0m | \u001b[0m 233.2   \u001b[0m |\n",
      "| \u001b[0m 9       \u001b[0m | \u001b[0m 0.5782  \u001b[0m | \u001b[0m 10.75   \u001b[0m | \u001b[0m 16.66   \u001b[0m | \u001b[0m 263.4   \u001b[0m |\n",
      "| \u001b[95m 10      \u001b[0m | \u001b[95m 0.5864  \u001b[0m | \u001b[95m 25.55   \u001b[0m | \u001b[95m 7.941   \u001b[0m | \u001b[95m 158.3   \u001b[0m |\n",
      "| \u001b[95m 11      \u001b[0m | \u001b[95m 0.5889  \u001b[0m | \u001b[95m 32.59   \u001b[0m | \u001b[95m 11.78   \u001b[0m | \u001b[95m 293.5   \u001b[0m |\n",
      "| \u001b[0m 12      \u001b[0m | \u001b[0m 0.5808  \u001b[0m | \u001b[0m 11.51   \u001b[0m | \u001b[0m 24.24   \u001b[0m | \u001b[0m 126.6   \u001b[0m |\n",
      "| \u001b[0m 13      \u001b[0m | \u001b[0m 0.5788  \u001b[0m | \u001b[0m 39.92   \u001b[0m | \u001b[0m 27.61   \u001b[0m | \u001b[0m 130.6   \u001b[0m |\n",
      "| \u001b[0m 14      \u001b[0m | \u001b[0m 0.5603  \u001b[0m | \u001b[0m 48.6    \u001b[0m | \u001b[0m 4.279   \u001b[0m | \u001b[0m 41.46   \u001b[0m |\n",
      "| \u001b[0m 15      \u001b[0m | \u001b[0m 0.5853  \u001b[0m | \u001b[0m 21.87   \u001b[0m | \u001b[0m 12.18   \u001b[0m | \u001b[0m 162.4   \u001b[0m |\n",
      "| \u001b[0m 16      \u001b[0m | \u001b[0m 0.5829  \u001b[0m | \u001b[0m 36.74   \u001b[0m | \u001b[0m 20.86   \u001b[0m | \u001b[0m 184.5   \u001b[0m |\n",
      "| \u001b[0m 17      \u001b[0m | \u001b[0m 0.5767  \u001b[0m | \u001b[0m 13.22   \u001b[0m | \u001b[0m 27.15   \u001b[0m | \u001b[0m 40.36   \u001b[0m |\n",
      "| \u001b[0m 18      \u001b[0m | \u001b[0m 0.5745  \u001b[0m | \u001b[0m 41.29   \u001b[0m | \u001b[0m 3.026   \u001b[0m | \u001b[0m 102.1   \u001b[0m |\n",
      "| \u001b[0m 19      \u001b[0m | \u001b[0m 0.5834  \u001b[0m | \u001b[0m 18.21   \u001b[0m | \u001b[0m 9.249   \u001b[0m | \u001b[0m 281.8   \u001b[0m |\n",
      "| \u001b[0m 20      \u001b[0m | \u001b[0m 0.5778  \u001b[0m | \u001b[0m 10.32   \u001b[0m | \u001b[0m 13.3    \u001b[0m | \u001b[0m 271.4   \u001b[0m |\n",
      "| \u001b[0m 21      \u001b[0m | \u001b[0m 0.5849  \u001b[0m | \u001b[0m 37.72   \u001b[0m | \u001b[0m 2.364   \u001b[0m | \u001b[0m 234.5   \u001b[0m |\n",
      "| \u001b[0m 22      \u001b[0m | \u001b[0m 0.5864  \u001b[0m | \u001b[0m 50.0    \u001b[0m | \u001b[0m 2.0     \u001b[0m | \u001b[0m 300.0   \u001b[0m |\n",
      "| \u001b[0m 23      \u001b[0m | \u001b[0m 0.5846  \u001b[0m | \u001b[0m 44.87   \u001b[0m | \u001b[0m 30.0    \u001b[0m | \u001b[0m 300.0   \u001b[0m |\n",
      "| \u001b[0m 24      \u001b[0m | \u001b[0m 0.5849  \u001b[0m | \u001b[0m 36.26   \u001b[0m | \u001b[0m 26.92   \u001b[0m | \u001b[0m 181.1   \u001b[0m |\n",
      "| \u001b[0m 25      \u001b[0m | \u001b[0m 0.5855  \u001b[0m | \u001b[0m 41.21   \u001b[0m | \u001b[0m 2.0     \u001b[0m | \u001b[0m 279.9   \u001b[0m |\n",
      "| \u001b[0m 26      \u001b[0m | \u001b[0m 0.5823  \u001b[0m | \u001b[0m 50.0    \u001b[0m | \u001b[0m 30.0    \u001b[0m | \u001b[0m 161.2   \u001b[0m |\n",
      "| \u001b[0m 27      \u001b[0m | \u001b[0m 0.5842  \u001b[0m | \u001b[0m 22.41   \u001b[0m | \u001b[0m 2.0     \u001b[0m | \u001b[0m 300.0   \u001b[0m |\n",
      "| \u001b[0m 28      \u001b[0m | \u001b[0m 0.5801  \u001b[0m | \u001b[0m 10.0    \u001b[0m | \u001b[0m 2.0     \u001b[0m | \u001b[0m 187.5   \u001b[0m |\n",
      "| \u001b[0m 29      \u001b[0m | \u001b[0m 0.5829  \u001b[0m | \u001b[0m 22.75   \u001b[0m | \u001b[0m 28.69   \u001b[0m | \u001b[0m 299.2   \u001b[0m |\n",
      "| \u001b[0m 30      \u001b[0m | \u001b[0m 0.5842  \u001b[0m | \u001b[0m 50.0    \u001b[0m | \u001b[0m 2.0     \u001b[0m | \u001b[0m 161.6   \u001b[0m |\n",
      "| \u001b[0m 31      \u001b[0m | \u001b[0m 0.5834  \u001b[0m | \u001b[0m 17.17   \u001b[0m | \u001b[0m 30.0    \u001b[0m | \u001b[0m 201.6   \u001b[0m |\n",
      "| \u001b[0m 32      \u001b[0m | \u001b[0m 0.5851  \u001b[0m | \u001b[0m 50.0    \u001b[0m | \u001b[0m 30.0    \u001b[0m | \u001b[0m 207.6   \u001b[0m |\n",
      "| \u001b[0m 33      \u001b[0m | \u001b[0m 0.5814  \u001b[0m | \u001b[0m 50.0    \u001b[0m | \u001b[0m 15.38   \u001b[0m | \u001b[0m 289.9   \u001b[0m |\n",
      "| \u001b[0m 34      \u001b[0m | \u001b[0m 0.5803  \u001b[0m | \u001b[0m 49.04   \u001b[0m | \u001b[0m 2.555   \u001b[0m | \u001b[0m 205.4   \u001b[0m |\n",
      "| \u001b[0m 35      \u001b[0m | \u001b[0m 0.5838  \u001b[0m | \u001b[0m 50.0    \u001b[0m | \u001b[0m 2.0     \u001b[0m | \u001b[0m 256.3   \u001b[0m |\n",
      "| \u001b[0m 36      \u001b[0m | \u001b[0m 0.5861  \u001b[0m | \u001b[0m 37.27   \u001b[0m | \u001b[0m 2.0     \u001b[0m | \u001b[0m 300.0   \u001b[0m |\n",
      "| \u001b[0m 37      \u001b[0m | \u001b[0m 0.5818  \u001b[0m | \u001b[0m 32.1    \u001b[0m | \u001b[0m 23.28   \u001b[0m | \u001b[0m 282.8   \u001b[0m |\n",
      "| \u001b[0m 38      \u001b[0m | \u001b[0m 0.5866  \u001b[0m | \u001b[0m 31.61   \u001b[0m | \u001b[0m 2.058   \u001b[0m | \u001b[0m 168.6   \u001b[0m |\n",
      "| \u001b[0m 39      \u001b[0m | \u001b[0m 0.5827  \u001b[0m | \u001b[0m 34.17   \u001b[0m | \u001b[0m 28.65   \u001b[0m | \u001b[0m 214.0   \u001b[0m |\n",
      "| \u001b[0m 40      \u001b[0m | \u001b[0m 0.5741  \u001b[0m | \u001b[0m 10.0    \u001b[0m | \u001b[0m 2.0     \u001b[0m | \u001b[0m 142.2   \u001b[0m |\n",
      "=============================================================\n",
      "\n",
      "\n",
      "LGBM CLassifier Optimization Initiated At :  2022-01-11 04:21:48.507992\n",
      "\n",
      "|   iter    |  target   | colsam... | learni... | max_depth | min_ch... | n_esti... | subsample |\n",
      "-------------------------------------------------------------------------------------------------\n",
      "| \u001b[0m 1       \u001b[0m | \u001b[0m 0.6087  \u001b[0m | \u001b[0m 0.4056  \u001b[0m | \u001b[0m 0.05492 \u001b[0m | \u001b[0m 7.835   \u001b[0m | \u001b[0m 21.0    \u001b[0m | \u001b[0m 215.1   \u001b[0m | \u001b[0m 0.6922  \u001b[0m |\n",
      "| \u001b[0m 2       \u001b[0m | \u001b[0m 0.6079  \u001b[0m | \u001b[0m 0.9386  \u001b[0m | \u001b[0m 0.06827 \u001b[0m | \u001b[0m 27.42   \u001b[0m | \u001b[0m 34.42   \u001b[0m | \u001b[0m 254.5   \u001b[0m | \u001b[0m 0.8965  \u001b[0m |\n",
      "| \u001b[0m 3       \u001b[0m | \u001b[0m 0.6077  \u001b[0m | \u001b[0m 0.9001  \u001b[0m | \u001b[0m 0.09613 \u001b[0m | \u001b[0m 14.2    \u001b[0m | \u001b[0m 29.9    \u001b[0m | \u001b[0m 121.7   \u001b[0m | \u001b[0m 0.7717  \u001b[0m |\n",
      "| \u001b[0m 4       \u001b[0m | \u001b[0m 0.601   \u001b[0m | \u001b[0m 0.9865  \u001b[0m | \u001b[0m 0.01868 \u001b[0m | \u001b[0m 23.61   \u001b[0m | \u001b[0m 25.85   \u001b[0m | \u001b[0m 110.6   \u001b[0m | \u001b[0m 0.8515  \u001b[0m |\n",
      "| \u001b[95m 5       \u001b[0m | \u001b[95m 0.6122  \u001b[0m | \u001b[95m 0.4112  \u001b[0m | \u001b[95m 0.05714 \u001b[0m | \u001b[95m 26.61   \u001b[0m | \u001b[95m 27.78   \u001b[0m | \u001b[95m 87.29   \u001b[0m | \u001b[95m 0.6851  \u001b[0m |\n",
      "| \u001b[0m 6       \u001b[0m | \u001b[0m 0.5997  \u001b[0m | \u001b[0m 0.7388  \u001b[0m | \u001b[0m 0.04145 \u001b[0m | \u001b[0m 29.4    \u001b[0m | \u001b[0m 20.76   \u001b[0m | \u001b[0m 244.5   \u001b[0m | \u001b[0m 0.6147  \u001b[0m |\n",
      "| \u001b[0m 7       \u001b[0m | \u001b[0m 0.607   \u001b[0m | \u001b[0m 0.8488  \u001b[0m | \u001b[0m 0.09231 \u001b[0m | \u001b[0m 14.32   \u001b[0m | \u001b[0m 39.3    \u001b[0m | \u001b[0m 51.97   \u001b[0m | \u001b[0m 0.4255  \u001b[0m |\n",
      "| \u001b[0m 8       \u001b[0m | \u001b[0m 0.6016  \u001b[0m | \u001b[0m 0.5781  \u001b[0m | \u001b[0m 0.04273 \u001b[0m | \u001b[0m 17.26   \u001b[0m | \u001b[0m 33.37   \u001b[0m | \u001b[0m 211.8   \u001b[0m | \u001b[0m 0.7433  \u001b[0m |\n",
      "| \u001b[0m 9       \u001b[0m | \u001b[0m 0.6072  \u001b[0m | \u001b[0m 0.4484  \u001b[0m | \u001b[0m 0.09085 \u001b[0m | \u001b[0m 5.96    \u001b[0m | \u001b[0m 35.64   \u001b[0m | \u001b[0m 39.9    \u001b[0m | \u001b[0m 0.5603  \u001b[0m |\n",
      "| \u001b[0m 10      \u001b[0m | \u001b[0m 0.6074  \u001b[0m | \u001b[0m 0.5231  \u001b[0m | \u001b[0m 0.0333  \u001b[0m | \u001b[0m 28.32   \u001b[0m | \u001b[0m 20.16   \u001b[0m | \u001b[0m 138.9   \u001b[0m | \u001b[0m 0.9365  \u001b[0m |\n",
      "| \u001b[95m 11      \u001b[0m | \u001b[95m 0.6158  \u001b[0m | \u001b[95m 0.5225  \u001b[0m | \u001b[95m 0.01196 \u001b[0m | \u001b[95m 22.43   \u001b[0m | \u001b[95m 23.82   \u001b[0m | \u001b[95m 177.5   \u001b[0m | \u001b[95m 0.7619  \u001b[0m |\n",
      "| \u001b[0m 12      \u001b[0m | \u001b[0m 0.6036  \u001b[0m | \u001b[0m 0.9933  \u001b[0m | \u001b[0m 0.01832 \u001b[0m | \u001b[0m 6.607   \u001b[0m | \u001b[0m 39.76   \u001b[0m | \u001b[0m 152.1   \u001b[0m | \u001b[0m 0.9123  \u001b[0m |\n",
      "| \u001b[0m 13      \u001b[0m | \u001b[0m 0.6034  \u001b[0m | \u001b[0m 0.6409  \u001b[0m | \u001b[0m 0.04494 \u001b[0m | \u001b[0m 27.11   \u001b[0m | \u001b[0m 33.04   \u001b[0m | \u001b[0m 239.7   \u001b[0m | \u001b[0m 0.4578  \u001b[0m |\n",
      "| \u001b[0m 14      \u001b[0m | \u001b[0m 0.6053  \u001b[0m | \u001b[0m 0.9797  \u001b[0m | \u001b[0m 0.039   \u001b[0m | \u001b[0m 12.33   \u001b[0m | \u001b[0m 34.03   \u001b[0m | \u001b[0m 126.7   \u001b[0m | \u001b[0m 0.4949  \u001b[0m |\n",
      "| \u001b[0m 15      \u001b[0m | \u001b[0m 0.6053  \u001b[0m | \u001b[0m 0.4049  \u001b[0m | \u001b[0m 0.0847  \u001b[0m | \u001b[0m 20.66   \u001b[0m | \u001b[0m 37.43   \u001b[0m | \u001b[0m 199.0   \u001b[0m | \u001b[0m 0.4784  \u001b[0m |\n",
      "| \u001b[0m 16      \u001b[0m | \u001b[0m 0.6115  \u001b[0m | \u001b[0m 0.6715  \u001b[0m | \u001b[0m 0.02749 \u001b[0m | \u001b[0m 28.62   \u001b[0m | \u001b[0m 28.36   \u001b[0m | \u001b[0m 51.32   \u001b[0m | \u001b[0m 0.9198  \u001b[0m |\n",
      "| \u001b[0m 17      \u001b[0m | \u001b[0m 0.6113  \u001b[0m | \u001b[0m 0.8119  \u001b[0m | \u001b[0m 0.01178 \u001b[0m | \u001b[0m 6.862   \u001b[0m | \u001b[0m 20.51   \u001b[0m | \u001b[0m 151.2   \u001b[0m | \u001b[0m 0.7058  \u001b[0m |\n",
      "| \u001b[0m 18      \u001b[0m | \u001b[0m 0.6128  \u001b[0m | \u001b[0m 0.8647  \u001b[0m | \u001b[0m 0.03563 \u001b[0m | \u001b[0m 6.959   \u001b[0m | \u001b[0m 38.31   \u001b[0m | \u001b[0m 203.6   \u001b[0m | \u001b[0m 0.8903  \u001b[0m |\n",
      "| \u001b[0m 19      \u001b[0m | \u001b[0m 0.6111  \u001b[0m | \u001b[0m 0.782   \u001b[0m | \u001b[0m 0.07942 \u001b[0m | \u001b[0m 10.13   \u001b[0m | \u001b[0m 34.96   \u001b[0m | \u001b[0m 74.74   \u001b[0m | \u001b[0m 0.5669  \u001b[0m |\n",
      "| \u001b[0m 20      \u001b[0m | \u001b[0m 0.6059  \u001b[0m | \u001b[0m 0.6308  \u001b[0m | \u001b[0m 0.0326  \u001b[0m | \u001b[0m 11.03   \u001b[0m | \u001b[0m 36.83   \u001b[0m | \u001b[0m 35.65   \u001b[0m | \u001b[0m 0.937   \u001b[0m |\n",
      "| \u001b[0m 21      \u001b[0m | \u001b[0m 0.6034  \u001b[0m | \u001b[0m 0.9871  \u001b[0m | \u001b[0m 0.05419 \u001b[0m | \u001b[0m 7.323   \u001b[0m | \u001b[0m 24.23   \u001b[0m | \u001b[0m 264.0   \u001b[0m | \u001b[0m 0.4579  \u001b[0m |\n",
      "| \u001b[0m 22      \u001b[0m | \u001b[0m 0.6051  \u001b[0m | \u001b[0m 0.8989  \u001b[0m | \u001b[0m 0.04229 \u001b[0m | \u001b[0m 21.82   \u001b[0m | \u001b[0m 22.44   \u001b[0m | \u001b[0m 172.9   \u001b[0m | \u001b[0m 0.8686  \u001b[0m |\n"
     ]
    },
    {
     "name": "stdout",
     "output_type": "stream",
     "text": [
      "| \u001b[0m 23      \u001b[0m | \u001b[0m 0.6003  \u001b[0m | \u001b[0m 0.9058  \u001b[0m | \u001b[0m 0.07093 \u001b[0m | \u001b[0m 18.0    \u001b[0m | \u001b[0m 27.04   \u001b[0m | \u001b[0m 117.8   \u001b[0m | \u001b[0m 0.6722  \u001b[0m |\n",
      "| \u001b[0m 24      \u001b[0m | \u001b[0m 0.6096  \u001b[0m | \u001b[0m 0.859   \u001b[0m | \u001b[0m 0.05592 \u001b[0m | \u001b[0m 6.829   \u001b[0m | \u001b[0m 38.26   \u001b[0m | \u001b[0m 203.5   \u001b[0m | \u001b[0m 0.8079  \u001b[0m |\n",
      "| \u001b[0m 25      \u001b[0m | \u001b[0m 0.6057  \u001b[0m | \u001b[0m 0.6573  \u001b[0m | \u001b[0m 0.08271 \u001b[0m | \u001b[0m 26.03   \u001b[0m | \u001b[0m 28.1    \u001b[0m | \u001b[0m 87.42   \u001b[0m | \u001b[0m 0.7753  \u001b[0m |\n",
      "| \u001b[0m 26      \u001b[0m | \u001b[0m 0.6006  \u001b[0m | \u001b[0m 0.6879  \u001b[0m | \u001b[0m 0.09697 \u001b[0m | \u001b[0m 7.267   \u001b[0m | \u001b[0m 38.12   \u001b[0m | \u001b[0m 204.1   \u001b[0m | \u001b[0m 0.5018  \u001b[0m |\n",
      "| \u001b[0m 27      \u001b[0m | \u001b[0m 0.6089  \u001b[0m | \u001b[0m 0.4281  \u001b[0m | \u001b[0m 0.06551 \u001b[0m | \u001b[0m 26.85   \u001b[0m | \u001b[0m 27.16   \u001b[0m | \u001b[0m 87.56   \u001b[0m | \u001b[0m 0.6941  \u001b[0m |\n",
      "| \u001b[0m 28      \u001b[0m | \u001b[0m 0.6027  \u001b[0m | \u001b[0m 0.7131  \u001b[0m | \u001b[0m 0.05439 \u001b[0m | \u001b[0m 28.79   \u001b[0m | \u001b[0m 20.3    \u001b[0m | \u001b[0m 138.8   \u001b[0m | \u001b[0m 0.6743  \u001b[0m |\n",
      "| \u001b[0m 29      \u001b[0m | \u001b[0m 0.6055  \u001b[0m | \u001b[0m 0.9785  \u001b[0m | \u001b[0m 0.07137 \u001b[0m | \u001b[0m 6.716   \u001b[0m | \u001b[0m 20.53   \u001b[0m | \u001b[0m 151.2   \u001b[0m | \u001b[0m 0.6886  \u001b[0m |\n",
      "| \u001b[0m 30      \u001b[0m | \u001b[0m 0.6092  \u001b[0m | \u001b[0m 0.8815  \u001b[0m | \u001b[0m 0.01412 \u001b[0m | \u001b[0m 6.915   \u001b[0m | \u001b[0m 37.81   \u001b[0m | \u001b[0m 203.1   \u001b[0m | \u001b[0m 0.6789  \u001b[0m |\n",
      "| \u001b[0m 31      \u001b[0m | \u001b[0m 0.6111  \u001b[0m | \u001b[0m 0.5341  \u001b[0m | \u001b[0m 0.05075 \u001b[0m | \u001b[0m 26.6    \u001b[0m | \u001b[0m 35.27   \u001b[0m | \u001b[0m 161.6   \u001b[0m | \u001b[0m 0.5331  \u001b[0m |\n",
      "| \u001b[0m 32      \u001b[0m | \u001b[0m 0.6083  \u001b[0m | \u001b[0m 0.6873  \u001b[0m | \u001b[0m 0.01693 \u001b[0m | \u001b[0m 27.71   \u001b[0m | \u001b[0m 34.15   \u001b[0m | \u001b[0m 254.7   \u001b[0m | \u001b[0m 0.7883  \u001b[0m |\n",
      "| \u001b[0m 33      \u001b[0m | \u001b[0m 0.6042  \u001b[0m | \u001b[0m 0.8848  \u001b[0m | \u001b[0m 0.03329 \u001b[0m | \u001b[0m 27.43   \u001b[0m | \u001b[0m 35.41   \u001b[0m | \u001b[0m 162.4   \u001b[0m | \u001b[0m 0.4214  \u001b[0m |\n",
      "| \u001b[0m 34      \u001b[0m | \u001b[0m 0.6107  \u001b[0m | \u001b[0m 0.4004  \u001b[0m | \u001b[0m 0.03935 \u001b[0m | \u001b[0m 18.22   \u001b[0m | \u001b[0m 24.58   \u001b[0m | \u001b[0m 58.68   \u001b[0m | \u001b[0m 0.5368  \u001b[0m |\n",
      "| \u001b[0m 35      \u001b[0m | \u001b[0m 0.6038  \u001b[0m | \u001b[0m 0.8125  \u001b[0m | \u001b[0m 0.09719 \u001b[0m | \u001b[0m 5.775   \u001b[0m | \u001b[0m 34.37   \u001b[0m | \u001b[0m 91.39   \u001b[0m | \u001b[0m 0.5214  \u001b[0m |\n",
      "| \u001b[0m 36      \u001b[0m | \u001b[0m 0.6038  \u001b[0m | \u001b[0m 0.8678  \u001b[0m | \u001b[0m 0.05343 \u001b[0m | \u001b[0m 28.09   \u001b[0m | \u001b[0m 20.52   \u001b[0m | \u001b[0m 139.0   \u001b[0m | \u001b[0m 0.7364  \u001b[0m |\n",
      "| \u001b[0m 37      \u001b[0m | \u001b[0m 0.6062  \u001b[0m | \u001b[0m 0.7466  \u001b[0m | \u001b[0m 0.03107 \u001b[0m | \u001b[0m 16.26   \u001b[0m | \u001b[0m 30.28   \u001b[0m | \u001b[0m 280.5   \u001b[0m | \u001b[0m 0.7885  \u001b[0m |\n",
      "| \u001b[0m 38      \u001b[0m | \u001b[0m 0.6029  \u001b[0m | \u001b[0m 0.8734  \u001b[0m | \u001b[0m 0.07996 \u001b[0m | \u001b[0m 5.771   \u001b[0m | \u001b[0m 35.92   \u001b[0m | \u001b[0m 39.93   \u001b[0m | \u001b[0m 0.8693  \u001b[0m |\n",
      "| \u001b[0m 39      \u001b[0m | \u001b[0m 0.6081  \u001b[0m | \u001b[0m 0.4603  \u001b[0m | \u001b[0m 0.01874 \u001b[0m | \u001b[0m 27.13   \u001b[0m | \u001b[0m 27.21   \u001b[0m | \u001b[0m 88.33   \u001b[0m | \u001b[0m 0.7765  \u001b[0m |\n",
      "| \u001b[0m 40      \u001b[0m | \u001b[0m 0.6117  \u001b[0m | \u001b[0m 0.7447  \u001b[0m | \u001b[0m 0.05295 \u001b[0m | \u001b[0m 6.674   \u001b[0m | \u001b[0m 37.67   \u001b[0m | \u001b[0m 203.4   \u001b[0m | \u001b[0m 0.8387  \u001b[0m |\n",
      "=================================================================================================\n",
      "\n",
      "\n",
      "XGB CLassifier Optimization Initiated At :  2022-01-11 04:25:30.784969\n",
      "\n",
      "|   iter    |  target   | colsam... | learni... | max_depth | n_esti... | subsample |\n",
      "-------------------------------------------------------------------------------------\n",
      "| \u001b[0m 1       \u001b[0m | \u001b[0m 0.5993  \u001b[0m | \u001b[0m 0.4056  \u001b[0m | \u001b[0m 0.05492 \u001b[0m | \u001b[0m 3.474   \u001b[0m | \u001b[0m 43.49   \u001b[0m | \u001b[0m 0.8112  \u001b[0m |\n",
      "| \u001b[95m 2       \u001b[0m | \u001b[95m 0.6014  \u001b[0m | \u001b[95m 0.6922  \u001b[0m | \u001b[95m 0.09079 \u001b[0m | \u001b[95m 10.42   \u001b[0m | \u001b[95m 272.2   \u001b[0m | \u001b[95m 0.8327  \u001b[0m |\n",
      "| \u001b[0m 3       \u001b[0m | \u001b[0m 0.5984  \u001b[0m | \u001b[0m 0.8988  \u001b[0m | \u001b[0m 0.08448 \u001b[0m | \u001b[0m 12.84   \u001b[0m | \u001b[0m 288.4   \u001b[0m | \u001b[0m 0.6208  \u001b[0m |\n",
      "| \u001b[95m 4       \u001b[0m | \u001b[95m 0.6092  \u001b[0m | \u001b[95m 0.6969  \u001b[0m | \u001b[95m 0.04056 \u001b[0m | \u001b[95m 10.05   \u001b[0m | \u001b[95m 293.9   \u001b[0m | \u001b[95m 0.4579  \u001b[0m |\n",
      "| \u001b[0m 5       \u001b[0m | \u001b[0m 0.6079  \u001b[0m | \u001b[0m 0.8465  \u001b[0m | \u001b[0m 0.03632 \u001b[0m | \u001b[0m 5.883   \u001b[0m | \u001b[0m 233.2   \u001b[0m | \u001b[0m 0.4112  \u001b[0m |\n",
      "| \u001b[95m 6       \u001b[0m | \u001b[95m 0.6096  \u001b[0m | \u001b[95m 0.7142  \u001b[0m | \u001b[95m 0.0878  \u001b[0m | \u001b[95m 7.055   \u001b[0m | \u001b[95m 87.29   \u001b[0m | \u001b[95m 0.6851  \u001b[0m |\n",
      "| \u001b[95m 7       \u001b[0m | \u001b[95m 0.6126  \u001b[0m | \u001b[95m 0.7388  \u001b[0m | \u001b[95m 0.04145 \u001b[0m | \u001b[95m 14.69   \u001b[0m | \u001b[95m 40.21   \u001b[0m | \u001b[95m 0.8766  \u001b[0m |\n",
      "| \u001b[0m 8       \u001b[0m | \u001b[0m 0.6102  \u001b[0m | \u001b[0m 0.6147  \u001b[0m | \u001b[0m 0.07732 \u001b[0m | \u001b[0m 13.89   \u001b[0m | \u001b[0m 130.6   \u001b[0m | \u001b[0m 0.9789  \u001b[0m |\n",
      "| \u001b[95m 9       \u001b[0m | \u001b[95m 0.613   \u001b[0m | \u001b[95m 0.4488  \u001b[0m | \u001b[95m 0.01382 \u001b[0m | \u001b[95m 5.858   \u001b[0m | \u001b[95m 128.2   \u001b[0m | \u001b[95m 0.6942  \u001b[0m |\n",
      "| \u001b[0m 10      \u001b[0m | \u001b[0m 0.6079  \u001b[0m | \u001b[0m 0.8011  \u001b[0m | \u001b[0m 0.07061 \u001b[0m | \u001b[0m 9.437   \u001b[0m | \u001b[0m 51.76   \u001b[0m | \u001b[0m 0.939   \u001b[0m |\n",
      "| \u001b[0m 11      \u001b[0m | \u001b[0m 0.6042  \u001b[0m | \u001b[0m 0.423   \u001b[0m | \u001b[0m 0.0804  \u001b[0m | \u001b[0m 2.477   \u001b[0m | \u001b[0m 102.1   \u001b[0m | \u001b[0m 0.5231  \u001b[0m |\n",
      "| \u001b[0m 12      \u001b[0m | \u001b[0m 0.604   \u001b[0m | \u001b[0m 0.5553  \u001b[0m | \u001b[0m 0.09394 \u001b[0m | \u001b[0m 2.106   \u001b[0m | \u001b[0m 138.9   \u001b[0m | \u001b[0m 0.9365  \u001b[0m |\n",
      "| \u001b[0m 13      \u001b[0m | \u001b[0m 0.6109  \u001b[0m | \u001b[0m 0.5225  \u001b[0m | \u001b[0m 0.01196 \u001b[0m | \u001b[0m 11.06   \u001b[0m | \u001b[0m 81.58   \u001b[0m | \u001b[0m 0.7279  \u001b[0m |\n",
      "| \u001b[0m 14      \u001b[0m | \u001b[0m 0.5984  \u001b[0m | \u001b[0m 0.7619  \u001b[0m | \u001b[0m 0.09899 \u001b[0m | \u001b[0m 3.202   \u001b[0m | \u001b[0m 47.36   \u001b[0m | \u001b[0m 0.9928  \u001b[0m |\n",
      "| \u001b[0m 15      \u001b[0m | \u001b[0m 0.6081  \u001b[0m | \u001b[0m 0.6713  \u001b[0m | \u001b[0m 0.08685 \u001b[0m | \u001b[0m 7.219   \u001b[0m | \u001b[0m 134.8   \u001b[0m | \u001b[0m 0.9306  \u001b[0m |\n",
      "| \u001b[0m 16      \u001b[0m | \u001b[0m 0.6107  \u001b[0m | \u001b[0m 0.7912  \u001b[0m | \u001b[0m 0.07991 \u001b[0m | \u001b[0m 3.252   \u001b[0m | \u001b[0m 290.9   \u001b[0m | \u001b[0m 0.5934  \u001b[0m |\n",
      "| \u001b[0m 17      \u001b[0m | \u001b[0m 0.61    \u001b[0m | \u001b[0m 0.5759  \u001b[0m | \u001b[0m 0.07315 \u001b[0m | \u001b[0m 6.658   \u001b[0m | \u001b[0m 72.71   \u001b[0m | \u001b[0m 0.4049  \u001b[0m |\n",
      "| \u001b[0m 18      \u001b[0m | \u001b[0m 0.5997  \u001b[0m | \u001b[0m 0.898   \u001b[0m | \u001b[0m 0.06638 \u001b[0m | \u001b[0m 13.33   \u001b[0m | \u001b[0m 199.0   \u001b[0m | \u001b[0m 0.4784  \u001b[0m |\n",
      "| \u001b[0m 19      \u001b[0m | \u001b[0m 0.6102  \u001b[0m | \u001b[0m 0.6715  \u001b[0m | \u001b[0m 0.02749 \u001b[0m | \u001b[0m 14.28   \u001b[0m | \u001b[0m 142.9   \u001b[0m | \u001b[0m 0.4474  \u001b[0m |\n",
      "| \u001b[0m 20      \u001b[0m | \u001b[0m 0.5978  \u001b[0m | \u001b[0m 0.9198  \u001b[0m | \u001b[0m 0.07178 \u001b[0m | \u001b[0m 2.257   \u001b[0m | \u001b[0m 50.1    \u001b[0m | \u001b[0m 0.4152  \u001b[0m |\n",
      "| \u001b[0m 21      \u001b[0m | \u001b[0m 0.6074  \u001b[0m | \u001b[0m 0.8115  \u001b[0m | \u001b[0m 0.02675 \u001b[0m | \u001b[0m 3.337   \u001b[0m | \u001b[0m 299.7   \u001b[0m | \u001b[0m 0.9043  \u001b[0m |\n",
      "| \u001b[0m 22      \u001b[0m | \u001b[0m 0.6042  \u001b[0m | \u001b[0m 0.4188  \u001b[0m | \u001b[0m 0.09726 \u001b[0m | \u001b[0m 8.91    \u001b[0m | \u001b[0m 121.8   \u001b[0m | \u001b[0m 0.6096  \u001b[0m |\n",
      "| \u001b[0m 23      \u001b[0m | \u001b[0m 0.6096  \u001b[0m | \u001b[0m 0.7015  \u001b[0m | \u001b[0m 0.03344 \u001b[0m | \u001b[0m 14.97   \u001b[0m | \u001b[0m 45.35   \u001b[0m | \u001b[0m 0.8335  \u001b[0m |\n",
      "| \u001b[0m 24      \u001b[0m | \u001b[0m 0.6014  \u001b[0m | \u001b[0m 0.4302  \u001b[0m | \u001b[0m 0.01093 \u001b[0m | \u001b[0m 15.0    \u001b[0m | \u001b[0m 33.8    \u001b[0m | \u001b[0m 1.0     \u001b[0m |\n",
      "| \u001b[0m 25      \u001b[0m | \u001b[0m 0.6014  \u001b[0m | \u001b[0m 0.944   \u001b[0m | \u001b[0m 0.01403 \u001b[0m | \u001b[0m 4.915   \u001b[0m | \u001b[0m 79.72   \u001b[0m | \u001b[0m 0.7012  \u001b[0m |\n",
      "| \u001b[0m 26      \u001b[0m | \u001b[0m 0.6089  \u001b[0m | \u001b[0m 0.4798  \u001b[0m | \u001b[0m 0.02254 \u001b[0m | \u001b[0m 8.99    \u001b[0m | \u001b[0m 129.5   \u001b[0m | \u001b[0m 0.6261  \u001b[0m |\n",
      "| \u001b[0m 27      \u001b[0m | \u001b[0m 0.6053  \u001b[0m | \u001b[0m 0.5964  \u001b[0m | \u001b[0m 0.0603  \u001b[0m | \u001b[0m 2.269   \u001b[0m | \u001b[0m 129.2   \u001b[0m | \u001b[0m 0.4703  \u001b[0m |\n",
      "| \u001b[0m 28      \u001b[0m | \u001b[0m 0.6036  \u001b[0m | \u001b[0m 0.5632  \u001b[0m | \u001b[0m 0.06108 \u001b[0m | \u001b[0m 12.28   \u001b[0m | \u001b[0m 42.01   \u001b[0m | \u001b[0m 0.4     \u001b[0m |\n",
      "| \u001b[0m 29      \u001b[0m | \u001b[0m 0.6038  \u001b[0m | \u001b[0m 0.5079  \u001b[0m | \u001b[0m 0.06304 \u001b[0m | \u001b[0m 6.271   \u001b[0m | \u001b[0m 126.1   \u001b[0m | \u001b[0m 0.5003  \u001b[0m |\n",
      "| \u001b[0m 30      \u001b[0m | \u001b[0m 0.6083  \u001b[0m | \u001b[0m 0.6906  \u001b[0m | \u001b[0m 0.07501 \u001b[0m | \u001b[0m 6.562   \u001b[0m | \u001b[0m 129.4   \u001b[0m | \u001b[0m 0.8924  \u001b[0m |\n",
      "| \u001b[0m 31      \u001b[0m | \u001b[0m 0.5973  \u001b[0m | \u001b[0m 0.9786  \u001b[0m | \u001b[0m 0.04026 \u001b[0m | \u001b[0m 14.87   \u001b[0m | \u001b[0m 38.85   \u001b[0m | \u001b[0m 0.8017  \u001b[0m |\n",
      "| \u001b[0m 32      \u001b[0m | \u001b[0m 0.6064  \u001b[0m | \u001b[0m 0.8462  \u001b[0m | \u001b[0m 0.06794 \u001b[0m | \u001b[0m 7.158   \u001b[0m | \u001b[0m 87.49   \u001b[0m | \u001b[0m 0.645   \u001b[0m |\n",
      "| \u001b[0m 33      \u001b[0m | \u001b[0m 0.5999  \u001b[0m | \u001b[0m 0.8303  \u001b[0m | \u001b[0m 0.02564 \u001b[0m | \u001b[0m 3.647   \u001b[0m | \u001b[0m 83.68   \u001b[0m | \u001b[0m 0.9539  \u001b[0m |\n",
      "| \u001b[0m 34      \u001b[0m | \u001b[0m 0.6107  \u001b[0m | \u001b[0m 0.8074  \u001b[0m | \u001b[0m 0.02814 \u001b[0m | \u001b[0m 11.73   \u001b[0m | \u001b[0m 84.56   \u001b[0m | \u001b[0m 0.5343  \u001b[0m |\n",
      "| \u001b[95m 35      \u001b[0m | \u001b[95m 0.6182  \u001b[0m | \u001b[95m 0.4302  \u001b[0m | \u001b[95m 0.01826 \u001b[0m | \u001b[95m 6.255   \u001b[0m | \u001b[95m 128.2   \u001b[0m | \u001b[95m 0.858   \u001b[0m |\n"
     ]
    },
    {
     "name": "stdout",
     "output_type": "stream",
     "text": [
      "| \u001b[0m 36      \u001b[0m | \u001b[0m 0.6152  \u001b[0m | \u001b[0m 0.5981  \u001b[0m | \u001b[0m 0.02068 \u001b[0m | \u001b[0m 6.904   \u001b[0m | \u001b[0m 128.2   \u001b[0m | \u001b[0m 0.8386  \u001b[0m |\n",
      "| \u001b[0m 37      \u001b[0m | \u001b[0m 0.6036  \u001b[0m | \u001b[0m 0.6688  \u001b[0m | \u001b[0m 0.08663 \u001b[0m | \u001b[0m 6.581   \u001b[0m | \u001b[0m 128.2   \u001b[0m | \u001b[0m 0.597   \u001b[0m |\n",
      "| \u001b[0m 38      \u001b[0m | \u001b[0m 0.6096  \u001b[0m | \u001b[0m 0.5371  \u001b[0m | \u001b[0m 0.09938 \u001b[0m | \u001b[0m 6.21    \u001b[0m | \u001b[0m 127.8   \u001b[0m | \u001b[0m 0.9311  \u001b[0m |\n",
      "| \u001b[0m 39      \u001b[0m | \u001b[0m 0.6072  \u001b[0m | \u001b[0m 0.9381  \u001b[0m | \u001b[0m 0.02367 \u001b[0m | \u001b[0m 3.305   \u001b[0m | \u001b[0m 290.8   \u001b[0m | \u001b[0m 0.6222  \u001b[0m |\n",
      "| \u001b[0m 40      \u001b[0m | \u001b[0m 0.6122  \u001b[0m | \u001b[0m 0.542   \u001b[0m | \u001b[0m 0.05852 \u001b[0m | \u001b[0m 6.452   \u001b[0m | \u001b[0m 128.2   \u001b[0m | \u001b[0m 0.8977  \u001b[0m |\n",
      "=====================================================================================\n",
      "\n",
      "\n"
     ]
    }
   ],
   "source": [
    "estimators = return_estimators()"
   ]
  },
  {
   "cell_type": "code",
   "execution_count": 47,
   "id": "2416711b",
   "metadata": {},
   "outputs": [
    {
     "name": "stdout",
     "output_type": "stream",
     "text": [
      "RandomForestClassifier 0.5846445124212087\n",
      "LGBMClassifier 0.6154055431961438\n",
      "[04:52:05] WARNING: C:/Users/Administrator/workspace/xgboost-win64_release_1.4.0/src/learner.cc:1095: Starting in XGBoost 1.3.0, the default evaluation metric used with the objective 'multi:softprob' was changed from 'merror' to 'mlogloss'. Explicitly set eval_metric if you'd like to restore the old behavior.\n",
      "XGBClassifier 0.6063709677419354\n"
     ]
    }
   ],
   "source": [
    "models = []\n",
    "skf = StratifiedKFold(n_splits=10, shuffle=True, random_state=2022)\n",
    "for model_name, model in estimators : \n",
    "    model.fit(X_train, y_train)\n",
    "    scores = cross_val_score(model, X_train, y_train,scoring = 'accuracy', cv=skf, n_jobs=-1)\n",
    "    print(model.__class__.__name__, np.mean(scores))\n",
    "    models.append(model)"
   ]
  },
  {
   "cell_type": "code",
   "execution_count": 117,
   "id": "7bd88821",
   "metadata": {},
   "outputs": [],
   "source": [
    "voting = VotingClassifier(estimators, voting = 'soft', weights=(1,2,1.5))\n",
    "models.append(voting)"
   ]
  },
  {
   "cell_type": "code",
   "execution_count": 122,
   "id": "d1138c63",
   "metadata": {},
   "outputs": [
    {
     "name": "stdout",
     "output_type": "stream",
     "text": [
      "[15:16:07] WARNING: C:/Users/Administrator/workspace/xgboost-win64_release_1.4.0/src/learner.cc:1095: Starting in XGBoost 1.3.0, the default evaluation metric used with the objective 'multi:softprob' was changed from 'merror' to 'mlogloss'. Explicitly set eval_metric if you'd like to restore the old behavior.\n",
      "[15:16:15] WARNING: C:/Users/Administrator/workspace/xgboost-win64_release_1.4.0/src/learner.cc:1095: Starting in XGBoost 1.3.0, the default evaluation metric used with the objective 'multi:softprob' was changed from 'merror' to 'mlogloss'. Explicitly set eval_metric if you'd like to restore the old behavior.\n",
      "[15:16:23] WARNING: C:/Users/Administrator/workspace/xgboost-win64_release_1.4.0/src/learner.cc:1095: Starting in XGBoost 1.3.0, the default evaluation metric used with the objective 'multi:softprob' was changed from 'merror' to 'mlogloss'. Explicitly set eval_metric if you'd like to restore the old behavior.\n",
      "[15:16:31] WARNING: C:/Users/Administrator/workspace/xgboost-win64_release_1.4.0/src/learner.cc:1095: Starting in XGBoost 1.3.0, the default evaluation metric used with the objective 'multi:softprob' was changed from 'merror' to 'mlogloss'. Explicitly set eval_metric if you'd like to restore the old behavior.\n",
      "0.6\n"
     ]
    }
   ],
   "source": [
    "preds = []\n",
    "skf = StratifiedKFold(n_splits=4, shuffle=True, random_state=2022)\n",
    "model = voting\n",
    "preds = []\n",
    "for train_idx, valid_idx in skf.split(X_train.index, y_train) : \n",
    "    X_tr = X_train.iloc[train_idx]\n",
    "    X_val = X_train.iloc[valid_idx]\n",
    "\n",
    "    y_tr = y_train[train_idx]\n",
    "    y_val = y_train[valid_idx]\n",
    "\n",
    "    model.fit(X_tr, y_tr)\n",
    "\n",
    "    pred = model.predict_proba(X_test)\n",
    "    preds.append(pred)\n",
    "p = np.mean(preds, axis = 0)\n",
    "p = np.argmax(p, axis = 1)\n",
    "score  = accuracy_score(y_test, p)\n",
    "print(score)"
   ]
  },
  {
   "cell_type": "code",
   "execution_count": null,
   "id": "728bc2ab",
   "metadata": {},
   "outputs": [],
   "source": [
    "import umap\n",
    "\n",
    "embedding = umap.UMAP(n_neighbors=6,\n",
    "                      min_dist=0.3,\n",
    "                      metric='correlation').fit_transform(X_test)\n",
    "\n",
    "plt.figure(figsize = (12,8))\n",
    "plt.subplot(1,2,1)\n",
    "legends = ['저체중','정상체중','과체중','제1도비만','제2도비만','제3도비만']\n",
    "plt.scatter(embedding[:, 0], embedding[:, 1], c=y_test, s=10, cmap=\"tab10\")\n",
    "plt.title('정답지')\n",
    "plt.axis(\"off\")\n",
    "\n",
    "plt.subplot(1,2,2)\n",
    "plt.scatter(embedding[:, 0], embedding[:, 1], c=y_test, s=10, cmap=\"tab10\")\n",
    "plt.title('예측지')\n",
    "plt.axis(\"off\")\n",
    "\n",
    "plt.savefig('모형의 예측 분포')\n",
    "plt.show()"
   ]
  },
  {
   "cell_type": "code",
   "execution_count": 49,
   "id": "6a80d769",
   "metadata": {},
   "outputs": [],
   "source": [
    "import shap\n",
    "from itertools import combinations\n",
    "from sklearn.model_selection import cross_val_score"
   ]
  },
  {
   "cell_type": "code",
   "execution_count": null,
   "id": "3261e17a",
   "metadata": {},
   "outputs": [],
   "source": [
    "rf_explainer = shap.TreeExplainer(models[0])\n",
    "rf_shap_values = rf_explainer.shap_values(X_train)\n",
    "lgbm_explainer = shap.TreeExplainer(models[1])\n",
    "lgbm_shap_values = lgbm_explainer.shap_values(X_train)\n",
    "xgb_explainer = shap.TreeExplainer(models[2])\n",
    "xgb_shap_values = xgb_explainer.shap_values(X_train)"
   ]
  },
  {
   "cell_type": "code",
   "execution_count": null,
   "id": "6f0c8a86",
   "metadata": {},
   "outputs": [],
   "source": [
    "rf_top_features = sorted(list(zip(X_train.columns, rf_shap_values[0].mean(axis = 0))), key = lambda x : x[1], reverse = True)\n",
    "lgbm_top_features = sorted(list(zip(X_train.columns, lgbm_shap_values[0].mean(axis = 0))), key = lambda x : x[1], reverse = True)\n",
    "xgb_top_features = sorted(list(zip(X_train.columns, xgb_shap_values[0].mean(axis = 0))), key = lambda x : x[1], reverse = True)"
   ]
  },
  {
   "cell_type": "code",
   "execution_count": 81,
   "id": "dc634589",
   "metadata": {},
   "outputs": [],
   "source": [
    "# EDA용 패키지 불러오기\n",
    "import matplotlib\n",
    "import matplotlib.pyplot as plt\n",
    "import seaborn as sns\n",
    "%matplotlib inline \n",
    "\n",
    "# Python에서 한글 폰트 설정\n",
    "local_font_path = \"c:/Windows/Fonts/malgun.ttf\"\n",
    "import matplotlib.font_manager as fm\n",
    "plt.rc('font', family=fm.FontProperties(fname=local_font_path).get_name())\n",
    "# 마이너스 부호 깨지는 현상 방지\n",
    "plt.rc('axes', unicode_minus=False)"
   ]
  },
  {
   "cell_type": "code",
   "execution_count": 94,
   "id": "e9234b58",
   "metadata": {},
   "outputs": [],
   "source": [
    "class_names = ['저체중', '정상체중', '과체중', '제1도비만', '제2도비만', '제3도비만']"
   ]
  },
  {
   "cell_type": "code",
   "execution_count": 95,
   "id": "1ae5a637",
   "metadata": {},
   "outputs": [
    {
     "data": {
      "image/png": "[encoded data removed]",
      "text/plain": [
       "<Figure size 576x720 with 1 Axes>"
      ]
     },
     "metadata": {
      "needs_background": "light"
     },
     "output_type": "display_data"
    }
   ],
   "source": [
    "title = 'Random Forest 모형의 SHAP 기반 변수 중요도 상위 20개'\n",
    "shap.summary_plot(rf_shap_values, X_train, plot_type='bar', show = False, plot_size = (8,10), class_names= class_names)\n",
    "plt.xlabel('SHAP Importance')\n",
    "plt.ylabel('Features')\n",
    "plt.title(title)\n",
    "plt.savefig(title + '.png',  bbox_inches=\"tight\")"
   ]
  },
  {
   "cell_type": "code",
   "execution_count": 91,
   "id": "e5035d96",
   "metadata": {},
   "outputs": [
    {
     "data": {
      "image/png": "[encoded data removed]",
      "text/plain": [
       "<Figure size 576x720 with 1 Axes>"
      ]
     },
     "metadata": {
      "needs_background": "light"
     },
     "output_type": "display_data"
    }
   ],
   "source": [
    "title = 'LightGBM 모형의 SHAP 기반 변수 중요도 상위 20개'\n",
    "shap.summary_plot(lgbm_shap_values, X_train, plot_type='bar', show = False, plot_size = (8,10), class_names= class_names)\n",
    "plt.xlabel('SHAP Importance')\n",
    "plt.ylabel('Features')\n",
    "plt.title(title)\n",
    "plt.savefig(title + '.png',  bbox_inches=\"tight\")"
   ]
  },
  {
   "cell_type": "code",
   "execution_count": 92,
   "id": "def3ee00",
   "metadata": {},
   "outputs": [
    {
     "data": {
      "image/png": "[encoded data removed]",
      "text/plain": [
       "<Figure size 576x720 with 1 Axes>"
      ]
     },
     "metadata": {
      "needs_background": "light"
     },
     "output_type": "display_data"
    }
   ],
   "source": [
    "title = 'XGBOOST 모형의 SHAP 기반 변수 중요도 상위 20개'\n",
    "shap.summary_plot(xgb_shap_values, X_train, plot_type='bar', show = False, plot_size = (8,10), class_names= class_names)\n",
    "plt.xlabel('SHAP Importance')\n",
    "plt.ylabel('Features')\n",
    "plt.title(title)\n",
    "plt.savefig(title + '.png',  bbox_inches=\"tight\")"
   ]
  }
 ],
 "metadata": {
  "kernelspec": {
   "display_name": "Python 3",
   "language": "python",
   "name": "python3"
  },
  "language_info": {
   "codemirror_mode": {
    "name": "ipython",
    "version": 3
   },
   "file_extension": ".py",
   "mimetype": "text/x-python",
   "name": "python",
   "nbconvert_exporter": "python",
   "pygments_lexer": "ipython3",
   "version": "3.8.8"
  }
 },
 "nbformat": 4,
 "nbformat_minor": 5
}
